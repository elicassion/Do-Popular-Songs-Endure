{
 "cells": [
  {
   "cell_type": "code",
   "execution_count": 94,
   "metadata": {},
   "outputs": [],
   "source": [
    "%matplotlib inline\n",
    "import sklearn\n",
    "import codecs, os, sys, json, string\n",
    "import matplotlib.pyplot as plt\n",
    "import matplotlib.dates as mdate\n",
    "import numpy as np\n",
    "import pandas as pd\n",
    "import xgboost as xgb\n",
    "import seaborn as sns\n",
    "from sklearn import preprocessing\n",
    "# import sympy\n",
    "# from sympy import symbols, integrate\n",
    "from sympy import *"
   ]
  },
  {
   "cell_type": "code",
   "execution_count": 35,
   "metadata": {},
   "outputs": [],
   "source": [
    "def join_path(d, file):\n",
    "    return os.path.join(d, file)"
   ]
  },
  {
   "cell_type": "code",
   "execution_count": 36,
   "metadata": {},
   "outputs": [],
   "source": [
    "data_path = \"..\\\\data\\\\extracted\\\\\"\n",
    "bhot100 = pd.read_csv(join_path(data_path, 'hot-100.csv'))\n",
    "bhot100['title'] = bhot100.apply(lambda row: row['title'].lower().strip(), axis=1)\n",
    "bhot100['artist_name'] = bhot100.apply(lambda row: row['artist_name'].lower().strip(), axis=1)\n",
    "grammy = pd.read_csv(join_path(data_path, 'grammy.csv'), \n",
    "                     dtype={'award_for': 'str',\n",
    "                            'name': 'str'\n",
    "                        })\n",
    "grammy['award_for'] = grammy.apply(lambda row: str(row['award_for']).lower().strip(), axis=1)\n",
    "grammy['name'] = grammy.apply(lambda row: str(row['name']).lower().strip(), axis=1)\n",
    "grammy = grammy[grammy['award_type']=='Individual']\n",
    "ama = pd.read_csv(join_path(data_path, 'ama.csv'), \n",
    "                    dtype={'award_for': 'str',\n",
    "                            'name': 'str'\n",
    "                    })\n",
    "ama['award_for'] = ama.apply(lambda row: str(row['award_for']).lower().strip(), axis=1)\n",
    "ama['name'] = ama.apply(lambda row: str(row['name']).lower().strip(), axis=1)\n",
    "\n",
    "msd = pd.read_csv(join_path(data_path, 'MSDSet.csv'))\n",
    "msd['artist_name'] = msd.apply(lambda row: str(row['artist_name']).lower().strip(), axis=1)\n",
    "msd['title'] = msd.apply(lambda row: str(row['title']).lower().strip(), axis=1)\n"
   ]
  },
  {
   "cell_type": "code",
   "execution_count": 67,
   "metadata": {},
   "outputs": [],
   "source": [
    "spotify = pd.read_csv(join_path(data_path, 'spotify2.csv'))\n",
    "spotify['title'] = spotify.apply(lambda row: str(row['title']).lower().strip(), axis=1)\n",
    "spotify['artist_name'] = spotify.apply(lambda row:str(row['artist_name']).lower().strip(), axis=1)"
   ]
  },
  {
   "cell_type": "code",
   "execution_count": 37,
   "metadata": {
    "collapsed": true
   },
   "outputs": [
    {
     "data": {
      "text/plain": [
       "title                                            artist_name                                \n",
       "zeze                                             kodak black featuring travis scott & offset      4.666667\n",
       "in my feelings                                   drake                                            5.722222\n",
       "sicko mode                                       travis scott                                     6.307692\n",
       "girls like you                                   maroon 5 featuring cardi b                       6.478261\n",
       "get back                                         the beatles with billy preston                   6.833333\n",
       "mrs. brown you've got a lovely daughter          herman's hermits                                 7.000000\n",
       "i want to hold your hand                         the beatles                                      7.533333\n",
       "hey jude                                         the beatles                                      7.842105\n",
       "i like it                                        cardi b, bad bunny & j balvin                    7.966667\n",
       "the first night                                  monica                                           8.000000\n",
       "hello                                            adele                                            8.153846\n",
       "i heard it through the grapevine                 marvin gaye                                      8.266667\n",
       "we might be dead by tomorrow                     soko                                             9.000000\n",
       "bridge over troubled water                       simon & garfunkel                                9.000000\n",
       "let it be                                        the beatles                                      9.071429\n",
       "i'll be there                                    jackson 5                                        9.125000\n",
       "the boy is mine                                  brandy & monica                                  9.333333\n",
       "i'm a believer                                   the monkees                                      9.466667\n",
       "something                                        the beatles                                      9.500000\n",
       "exhale (shoop shoop) (from \"waiting to exhale\")  whitney houston                                  9.571429\n",
       "fefe                                             6ix9ine featuring nicki minaj & murda beatz      9.600000\n",
       "one sweet day                                    mariah carey & boyz ii men                       9.703704\n",
       "my boo                                           usher and alicia keys                            9.769231\n",
       "imagine                                          john lennon plastic ono band                     9.777778\n",
       "lucid dreams                                     juice wrld                                       9.920000\n",
       "abc                                              jackson 5                                        9.923077\n",
       "nice for what                                    drake                                           10.000000\n",
       "i feel fine                                      the beatles                                     10.090909\n",
       "girlfriend                                       avril lavigne                                   10.208333\n",
       "god's plan                                       drake                                           10.250000\n",
       "                                                                                                   ...    \n",
       "try a little tenderness                          aretha franklin                                100.000000\n",
       "make the world go away                           ray price                                      100.000000\n",
       "do somethin'                                     britney spears                                 100.000000\n",
       "hand jive                                        the strangeloves                               100.000000\n",
       "undertow                                         timbaland featuring the fray & esthero         100.000000\n",
       "michael - pt. 1                                  steve alaimo                                   100.000000\n",
       "super high                                       rick ross featuring ne-yo                      100.000000\n",
       "killer                                           seal                                           100.000000\n",
       "dance little lady dance                          danny white                                    100.000000\n",
       "dance like we're making love                     ciara                                          100.000000\n",
       "on the line                                      demi lovato featuring jonas brothers           100.000000\n",
       "real hitta                                       plies featuring kodak black                    100.000000\n",
       "isn't it amazing                                 the crests featuring johnny mastro             100.000000\n",
       "for you, and your denial                         yellowcard                                     100.000000\n",
       "i'm to blame                                     kip moore                                      100.000000\n",
       "charade                                          andy williams                                  100.000000\n",
       "whatever u want                                  christina milian featuring joe budden          100.000000\n",
       "happier than the morning sun                     b.j. thomas                                    100.000000\n",
       "keep the ball rollin'                            al hirt                                        100.000000\n",
       "two wrongs don't make a right                    mary wells                                     100.000000\n",
       "no fear                                          dej loaf                                       100.000000\n",
       "i can do anything                                3oh!3                                          100.000000\n",
       "chain of fools (part 1)                          jimmy smith                                    100.000000\n",
       "i can hear music                                 the ronettes featuring veronica                100.000000\n",
       "the other side of this life                      peter, paul & mary                             100.000000\n",
       "awake and alive                                  skillet                                        100.000000\n",
       "please don't kiss me again                       the charmettes                                 100.000000\n",
       "twang                                            george strait                                  100.000000\n",
       "good day sunshine                                claudine longet                                100.000000\n",
       "banjo boy                                        art mooney and his orchestra                   100.000000\n",
       "Length: 27843, dtype: float64"
      ]
     },
     "execution_count": 37,
     "metadata": {},
     "output_type": "execute_result"
    }
   ],
   "source": [
    "titles = bhot100.title\n",
    "merge_song_bhot100 = bhot100[['title', 'artist_name', 'current_rank']].groupby(['title', 'artist_name']).sum()\n",
    "count_onchart_bhot100 = bhot100[['title', 'artist_name', 'current_rank']].groupby(['title', 'artist_name'])\\\n",
    "                        .count().rename(columns={\"current_rank\": \"onchart_count\"})\n",
    "bhot100_song_num = len(merge_song_bhot100)\n",
    "\n",
    "# count_onchart_bhot100 = count_onchart_bhot100.sort_values('onchart_count', ascending=False)\n",
    "# count_onchart_bhot100\n",
    "avr_bhot100_ranks = merge_song_bhot100.current_rank / count_onchart_bhot100.onchart_count\n",
    "avr_bhot100_ranks.sort_values()\n",
    "# avr_bhot100_ranks['Radioactive']\n"
   ]
  },
  {
   "cell_type": "code",
   "execution_count": 38,
   "metadata": {},
   "outputs": [
    {
     "name": "stdout",
     "output_type": "stream",
     "text": [
      "61.82629783506455\n",
      "0.016174347082332556\n"
     ]
    }
   ],
   "source": [
    "overall_avr_bhot_rank = np.mean(avr_bhot100_ranks)\n",
    "print (overall_avr_bhot_rank)\n",
    "blamda = 1/overall_avr_bhot_rank\n",
    "print (blamda)"
   ]
  },
  {
   "cell_type": "code",
   "execution_count": 39,
   "metadata": {},
   "outputs": [],
   "source": [
    "def rank_prob(rank):\n",
    "    x = symbols('x')\n",
    "    return integrate(blamda * exp(blamda*(x-100)), (x, rank-1, rank))\n",
    "#     return blamda*np.exp(blamda*(rank-100))"
   ]
  },
  {
   "cell_type": "code",
   "execution_count": 40,
   "metadata": {},
   "outputs": [
    {
     "data": {
      "text/plain": [
       "0.983955755284751"
      ]
     },
     "execution_count": 40,
     "metadata": {},
     "output_type": "execute_result"
    }
   ],
   "source": [
    "rank_prob(1)/rank_prob(2)"
   ]
  },
  {
   "cell_type": "code",
   "execution_count": 41,
   "metadata": {},
   "outputs": [
    {
     "data": {
      "text/plain": [
       "0.864530128451833"
      ]
     },
     "execution_count": 41,
     "metadata": {},
     "output_type": "execute_result"
    }
   ],
   "source": [
    "rank_prob(1)/rank_prob(10)"
   ]
  },
  {
   "cell_type": "code",
   "execution_count": 42,
   "metadata": {},
   "outputs": [
    {
     "data": {
      "text/plain": [
       "0.678287303057853"
      ]
     },
     "execution_count": 42,
     "metadata": {},
     "output_type": "execute_result"
    }
   ],
   "source": [
    "rank_prob(1)/rank_prob(25)"
   ]
  },
  {
   "cell_type": "code",
   "execution_count": 43,
   "metadata": {},
   "outputs": [
    {
     "data": {
      "text/plain": [
       "0.452692131013324"
      ]
     },
     "execution_count": 43,
     "metadata": {},
     "output_type": "execute_result"
    }
   ],
   "source": [
    "rank_prob(1)/rank_prob(50)"
   ]
  },
  {
   "cell_type": "code",
   "execution_count": 44,
   "metadata": {},
   "outputs": [
    {
     "data": {
      "text/plain": [
       "0.201642215756864"
      ]
     },
     "execution_count": 44,
     "metadata": {},
     "output_type": "execute_result"
    }
   ],
   "source": [
    "rank_prob(1)/rank_prob(100)"
   ]
  },
  {
   "cell_type": "code",
   "execution_count": 45,
   "metadata": {},
   "outputs": [
    {
     "data": {
      "text/plain": [
       "0.198407018702331"
      ]
     },
     "execution_count": 45,
     "metadata": {},
     "output_type": "execute_result"
    }
   ],
   "source": [
    "rank_prob(1)/rank_prob(101)"
   ]
  },
  {
   "cell_type": "code",
   "execution_count": 46,
   "metadata": {},
   "outputs": [
    {
     "data": {
      "text/plain": [
       "0.00323519705453182"
      ]
     },
     "execution_count": 46,
     "metadata": {},
     "output_type": "execute_result"
    }
   ],
   "source": [
    "rank_prob(1)"
   ]
  },
  {
   "cell_type": "code",
   "execution_count": null,
   "metadata": {},
   "outputs": [],
   "source": []
  },
  {
   "cell_type": "code",
   "execution_count": 49,
   "metadata": {},
   "outputs": [
    {
     "data": {
      "text/plain": [
       "0.8015929812976694"
      ]
     },
     "execution_count": 49,
     "metadata": {},
     "output_type": "execute_result"
    }
   ],
   "source": [
    "rank_prob_table_bhot100 = [float(rank_prob(i)) for i in range(1, 101)]\n",
    "rankprobsum = np.sum(rank_prob_table_bhot100)\n",
    "rankprobsum"
   ]
  },
  {
   "cell_type": "code",
   "execution_count": 50,
   "metadata": {},
   "outputs": [
    {
     "data": {
      "text/plain": [
       "[0.0032351970545318187,\n",
       " 0.003287949724523509,\n",
       " 0.0033415625721626985,\n",
       " 0.003396049623385494,\n",
       " 0.003451425132833086,\n",
       " 0.003507703587580846,\n",
       " 0.0035648997109283265,\n",
       " 0.003623028466251288,\n",
       " 0.00368210506091593,\n",
       " 0.003742144950257875,\n",
       " 0.0038031638416251845,\n",
       " 0.0038651776984877095,\n",
       " 0.003928202744613446,\n",
       " 0.003992255468312944,\n",
       " 0.004057352626752664,\n",
       " 0.004123511250339329,\n",
       " 0.004190748647174669,\n",
       " 0.004259082407584547,\n",
       " 0.0043285304087195,\n",
       " 0.004399110819232832,\n",
       " 0.004470842104033257,\n",
       " 0.004543743029115643,\n",
       " 0.0046178326664707,\n",
       " 0.004693130399074097,\n",
       " 0.004769655925957794,\n",
       " 0.004847429267363312,\n",
       " 0.004926470769979485,\n",
       " 0.005006801112265313,\n",
       " 0.00508844130985997,\n",
       " 0.0051714127210806815,\n",
       " 0.005255737052510201,\n",
       " 0.005341436364676155,\n",
       " 0.005428533077821596,\n",
       " 0.00551704997777136,\n",
       " 0.005607010221892361,\n",
       " 0.005698437345152629,\n",
       " 0.005791355266277831,\n",
       " 0.005885788294009209,\n",
       " 0.005981761133462715,\n",
       " 0.006079298892592733,\n",
       " 0.006178427088760208,\n",
       " 0.006279171655408811,\n",
       " 0.006381558948849009,\n",
       " 0.006485615755153884,\n",
       " 0.006591369297166361,\n",
       " 0.00669884724162112,\n",
       " 0.006808077706382865,\n",
       " 0.006919089267802214,\n",
       " 0.00703191096819189,\n",
       " 0.0071465723234243606,\n",
       " 0.007263103330653553,\n",
       " 0.007381534476163298,\n",
       " 0.007501896743342118,\n",
       " 0.007624221620789462,\n",
       " 0.007748541110553564,\n",
       " 0.007874887736503244,\n",
       " 0.008003294552837381,\n",
       " 0.008133795152731604,\n",
       " 0.008266423677127599,\n",
       " 0.00840121482366385,\n",
       " 0.008538203855754545,\n",
       " 0.008677426611813255,\n",
       " 0.008818919514630097,\n",
       " 0.008962719580900447,\n",
       " 0.009108864430908192,\n",
       " 0.009257392298368416,\n",
       " 0.009408342040430062,\n",
       " 0.009561753147840801,\n",
       " 0.00971766575527988,\n",
       " 0.009876120651855613,\n",
       " 0.010037159291779174,\n",
       " 0.010200823805207038,\n",
       " 0.010367157009265493,\n",
       " 0.010536202419249463,\n",
       " 0.010708004260009174,\n",
       " 0.01088260747751868,\n",
       " 0.011060057750634789,\n",
       " 0.011240401503047615,\n",
       " 0.011423685915424975,\n",
       " 0.011609958937756626,\n",
       " 0.011799269301897342,\n",
       " 0.011991666534318046,\n",
       " 0.012187200969059786,\n",
       " 0.012385923760904305,\n",
       " 0.012587886898756118,\n",
       " 0.012793143219243186,\n",
       " 0.013001746420540083,\n",
       " 0.013213751076416647,\n",
       " 0.013429212650514999,\n",
       " 0.013648187510859167,\n",
       " 0.013870732944602393,\n",
       " 0.014096907173014706,\n",
       " 0.014326769366713399,\n",
       " 0.014560379661143763,\n",
       " 0.014797799172311943,\n",
       " 0.015039090012771705,\n",
       " 0.015284315307876661,\n",
       " 0.015533539212292946,\n",
       " 0.01578682692678368,\n",
       " 0.01604424471526711,\n",
       " 0.19840701870233057]"
      ]
     },
     "execution_count": 50,
     "metadata": {},
     "output_type": "execute_result"
    }
   ],
   "source": [
    "out_chart_prob = 1-rankprobsum\n",
    "rank_prob_table_bhot100.append(out_chart_prob)\n",
    "rank_prob_table_bhot100"
   ]
  },
  {
   "cell_type": "code",
   "execution_count": null,
   "metadata": {},
   "outputs": [],
   "source": [
    "# f_score_table_bhot100 = -np.log(rank_prob_table_bhot100)\n",
    "# f_score_table_bhot100\n",
    "# f_norm_score_table_bhot100 = preprocessing.MinMaxScaler()\\\n",
    "#         .fit_transform(np.array(f_score_table_bhot100).reshape(-1, 1))\n",
    "# f_norm_score_table_bhot100 = f_norm_score_table_bhot100.reshape(-1).tolist()\n",
    "# f_norm_score_table_bhot100"
   ]
  },
  {
   "cell_type": "code",
   "execution_count": null,
   "metadata": {},
   "outputs": [],
   "source": []
  },
  {
   "cell_type": "code",
   "execution_count": 51,
   "metadata": {},
   "outputs": [
    {
     "data": {
      "text/plain": [
       "[309.10018250641457,\n",
       " 304.14090353675357,\n",
       " 299.26119245248435,\n",
       " 294.4597726469934,\n",
       " 289.73538799584355,\n",
       " 285.086802528166,\n",
       " 280.51280010331413,\n",
       " 276.01218409268813,\n",
       " 271.5837770667109,\n",
       " 267.22642048675556,\n",
       " 262.93897440207985,\n",
       " 258.7203171515918,\n",
       " 254.56934507040185,\n",
       " 250.48497220108567,\n",
       " 246.46613000959653,\n",
       " 242.5117671056939,\n",
       " 238.62084896792436,\n",
       " 234.79235767291246,\n",
       " 231.0252916291347,\n",
       " 227.31866531482186,\n",
       " 223.6715090201632,\n",
       " 220.0828685936123,\n",
       " 216.55180519225618,\n",
       " 213.07739503621912,\n",
       " 209.65872916696608,\n",
       " 206.29491320951965,\n",
       " 202.98506713847084,\n",
       " 199.72832504775744,\n",
       " 196.52383492412125,\n",
       " 193.37075842421407,\n",
       " 190.26827065528104,\n",
       " 187.2155599593348,\n",
       " 184.21182770084323,\n",
       " 181.2562880577629,\n",
       " 178.34816781598462,\n",
       " 175.48670616702475,\n",
       " 172.67115450900513,\n",
       " 169.90077625079383,\n",
       " 167.17484661931346,\n",
       " 164.49265246991575,\n",
       " 161.8534920998258,\n",
       " 159.25667506455423,\n",
       " 156.70152199727968,\n",
       " 154.18736443110066,\n",
       " 151.71354462416502,\n",
       " 149.27941538759438,\n",
       " 146.88433991616418,\n",
       " 144.52769162170975,\n",
       " 142.2088539691977,\n",
       " 139.9272203154363,\n",
       " 137.68219375036998,\n",
       " 135.4731869409042,\n",
       " 133.2996219772677,\n",
       " 131.16093022181238,\n",
       " 129.05655216025033,\n",
       " 126.98593725528319,\n",
       " 124.94854380256108,\n",
       " 122.94383878897737,\n",
       " 120.97129775321147,\n",
       " 119.03040464853754,\n",
       " 117.1206517077973,\n",
       " 115.24153931058574,\n",
       " 113.39257585252429,\n",
       " 111.57327761665107,\n",
       " 109.78316864688432,\n",
       " 108.0217806234966,\n",
       " 106.28865274059373,\n",
       " 104.58333158556977,\n",
       " 102.90537102047082,\n",
       " 101.25433206530452,\n",
       " 99.62978278316646,\n",
       " 98.03129816726639,\n",
       " 96.45846002971354,\n",
       " 94.91085689213952,\n",
       " 93.38808387802634,\n",
       " 91.88974260679738,\n",
       " 90.41544108959154,\n",
       " 88.96479362671072,\n",
       " 87.53742070672106,\n",
       " 86.13294890715854,\n",
       " 84.75101079684642,\n",
       " 83.39124483975395,\n",
       " 82.05329530043416,\n",
       " 80.7368121509404,\n",
       " 79.44145097925974,\n",
       " 78.16687289921217,\n",
       " 76.9127444617906,\n",
       " 75.67873756792335,\n",
       " 74.46452938264038,\n",
       " 73.2698022506176,\n",
       " 72.09424361306995,\n",
       " 70.93754592597946,\n",
       " 69.79940657964279,\n",
       " 68.67952781949965,\n",
       " 67.57761666823353,\n",
       " 66.49338484913423,\n",
       " 65.42654871066794,\n",
       " 64.37682915227839,\n",
       " 63.34395155136691,\n",
       " 62.32764569144455,\n",
       " 5.04014427786094]"
      ]
     },
     "execution_count": 51,
     "metadata": {},
     "output_type": "execute_result"
    }
   ],
   "source": [
    "score_table_bhot100 = [1/i for i in rank_prob_table_bhot100]\n",
    "score_table_bhot100"
   ]
  },
  {
   "cell_type": "code",
   "execution_count": 52,
   "metadata": {},
   "outputs": [
    {
     "data": {
      "text/plain": [
       "[99.99999999999999,\n",
       " 98.38529054703532,\n",
       " 96.79648788767526,\n",
       " 95.23317636698701,\n",
       " 93.69494699890325,\n",
       " 92.1813973592293,\n",
       " 90.69213148036376,\n",
       " 89.22675974770266,\n",
       " 87.7848987977208,\n",
       " 86.36617141766527,\n",
       " 84.97020644687932,\n",
       " 83.59663867969914,\n",
       " 82.24510876990905,\n",
       " 80.91526313673064,\n",
       " 79.60675387232557,\n",
       " 78.31923865076892,\n",
       " 77.05238063850477,\n",
       " 75.80584840620506,\n",
       " 74.579315842088,\n",
       " 73.37246206658087,\n",
       " 72.1849713483833,\n",
       " 71.01653302186605,\n",
       " 69.86684140579288,\n",
       " 68.73559572335593,\n",
       " 67.62250002348085,\n",
       " 66.52726310340628,\n",
       " 65.44959843249835,\n",
       " 64.38922407729197,\n",
       " 63.3458626277301,\n",
       " 62.31924112459073,\n",
       " 61.30909098807889,\n",
       " 60.31514794755507,\n",
       " 59.33715197240775,\n",
       " 58.37484720401522,\n",
       " 57.42798188881836,\n",
       " 56.496308312450225,\n",
       " 55.579582734936416,\n",
       " 54.677565326924515,\n",
       " 53.79002010694495,\n",
       " 52.916714879670145,\n",
       " 52.05742117517317,\n",
       " 51.21191418915273,\n",
       " 50.37997272412523,\n",
       " 49.56137913155115,\n",
       " 48.755919254898316,\n",
       " 47.96338237361516,\n",
       " 47.183561148001296,\n",
       " 46.416251564965535,\n",
       " 45.66125288465183,\n",
       " 44.91836758792438,\n",
       " 44.18740132469415,\n",
       " 43.46816286306926,\n",
       " 42.76046403933147,\n",
       " 42.064119708706464,\n",
       " 41.37894769692751,\n",
       " 40.70476875257817,\n",
       " 40.04140650019341,\n",
       " 39.38868739412133,\n",
       " 38.746440673116716,\n",
       " 38.114498315672535,\n",
       " 37.492694996055874,\n",
       " 36.880868041064474,\n",
       " 36.27885738746293,\n",
       " 35.68650554010814,\n",
       " 35.10365753074989,\n",
       " 34.53016087748594,\n",
       " 33.96586554487004,\n",
       " 33.41062390466322,\n",
       " 32.86429069720657,\n",
       " 32.32672299342762,\n",
       " 31.797780157438186,\n",
       " 31.277323809750843,\n",
       " 30.76521779106815,\n",
       " 30.261328126670154,\n",
       " 29.765522991357084,\n",
       " 29.277672674966063,\n",
       " 28.797649548435807,\n",
       " 28.32532803041623,\n",
       " 27.860584554416413,\n",
       " 27.40329753647499,\n",
       " 26.953347343355357,\n",
       " 26.510616261242667,\n",
       " 26.074988464954963,\n",
       " 25.646349987635837,\n",
       " 25.22458869094091,\n",
       " 24.809594235701574,\n",
       " 24.401258053057905,\n",
       " 23.999473316054655,\n",
       " 23.604134911694338,\n",
       " 23.215139413438994,\n",
       " 22.832385054151118,\n",
       " 22.45577169946923,\n",
       " 22.08520082161308,\n",
       " 21.720575473605873,\n",
       " 21.361800263910784,\n",
       " 21.00878133147828,\n",
       " 20.661426321186617,\n",
       " 20.319644359683178,\n",
       " 19.983346031609646,\n",
       " 19.652443356208796,\n",
       " 1.0]"
      ]
     },
     "execution_count": 52,
     "metadata": {},
     "output_type": "execute_result"
    }
   ],
   "source": [
    "norm_score_table_bhot100 = preprocessing.MinMaxScaler((1, 100))\\\n",
    "        .fit_transform(np.array(score_table_bhot100).reshape(-1, 1))\n",
    "norm_score_table_bhot100 = (norm_score_table_bhot100).reshape(-1).tolist()\n",
    "norm_score_table_bhot100"
   ]
  },
  {
   "cell_type": "code",
   "execution_count": null,
   "metadata": {},
   "outputs": [],
   "source": []
  },
  {
   "cell_type": "code",
   "execution_count": 53,
   "metadata": {},
   "outputs": [
    {
     "data": {
      "text/html": [
       "<div>\n",
       "<style scoped>\n",
       "    .dataframe tbody tr th:only-of-type {\n",
       "        vertical-align: middle;\n",
       "    }\n",
       "\n",
       "    .dataframe tbody tr th {\n",
       "        vertical-align: top;\n",
       "    }\n",
       "\n",
       "    .dataframe thead th {\n",
       "        text-align: right;\n",
       "    }\n",
       "</style>\n",
       "<table border=\"1\" class=\"dataframe\">\n",
       "  <thead>\n",
       "    <tr style=\"text-align: right;\">\n",
       "      <th></th>\n",
       "      <th>cnt</th>\n",
       "    </tr>\n",
       "    <tr>\n",
       "      <th>name</th>\n",
       "      <th></th>\n",
       "    </tr>\n",
       "  </thead>\n",
       "  <tbody>\n",
       "    <tr>\n",
       "      <th>'ikena</th>\n",
       "      <td>1</td>\n",
       "    </tr>\n",
       "    <tr>\n",
       "      <th>'round midnight</th>\n",
       "      <td>2</td>\n",
       "    </tr>\n",
       "    <tr>\n",
       "      <th>(everything i do) i do it for you (from robin hood - prince of thieves)</th>\n",
       "      <td>1</td>\n",
       "    </tr>\n",
       "    <tr>\n",
       "      <th>(hey won't you play) another somebody done somebody wrong song</th>\n",
       "      <td>1</td>\n",
       "    </tr>\n",
       "    <tr>\n",
       "      <th>(i'm a) stand by my woman man</th>\n",
       "      <td>1</td>\n",
       "    </tr>\n",
       "    <tr>\n",
       "      <th>(i've had) the time of my life</th>\n",
       "      <td>1</td>\n",
       "    </tr>\n",
       "    <tr>\n",
       "      <th>(sittin' on) the dock of the bay</th>\n",
       "      <td>2</td>\n",
       "    </tr>\n",
       "    <tr>\n",
       "      <th>(there's) no gettin' over me</th>\n",
       "      <td>1</td>\n",
       "    </tr>\n",
       "    <tr>\n",
       "      <th>...again</th>\n",
       "      <td>1</td>\n",
       "    </tr>\n",
       "    <tr>\n",
       "      <th>10,000 days</th>\n",
       "      <td>1</td>\n",
       "    </tr>\n",
       "    <tr>\n",
       "      <th>100 años de mariachi</th>\n",
       "      <td>1</td>\n",
       "    </tr>\n",
       "    <tr>\n",
       "      <th>100% mexicano</th>\n",
       "      <td>1</td>\n",
       "    </tr>\n",
       "    <tr>\n",
       "      <th>16 de septiembre</th>\n",
       "      <td>1</td>\n",
       "    </tr>\n",
       "    <tr>\n",
       "      <th>17</th>\n",
       "      <td>1</td>\n",
       "    </tr>\n",
       "    <tr>\n",
       "      <th>20 feet from stardom</th>\n",
       "      <td>1</td>\n",
       "    </tr>\n",
       "    <tr>\n",
       "      <th>2010 gathering of nations pow wow: a spirit's dance</th>\n",
       "      <td>1</td>\n",
       "    </tr>\n",
       "    <tr>\n",
       "      <th>24 frames</th>\n",
       "      <td>1</td>\n",
       "    </tr>\n",
       "    <tr>\n",
       "      <th>34th n lex</th>\n",
       "      <td>1</td>\n",
       "    </tr>\n",
       "    <tr>\n",
       "      <th>35th anniversary</th>\n",
       "      <td>1</td>\n",
       "    </tr>\n",
       "    <tr>\n",
       "      <th>4 + four</th>\n",
       "      <td>1</td>\n",
       "    </tr>\n",
       "    <tr>\n",
       "      <th>45</th>\n",
       "      <td>1</td>\n",
       "    </tr>\n",
       "    <tr>\n",
       "      <th>52nd street</th>\n",
       "      <td>2</td>\n",
       "    </tr>\n",
       "    <tr>\n",
       "      <th>52nd street themes</th>\n",
       "      <td>1</td>\n",
       "    </tr>\n",
       "    <tr>\n",
       "      <th>69 freedom special</th>\n",
       "      <td>1</td>\n",
       "    </tr>\n",
       "    <tr>\n",
       "      <th>70 years of hits</th>\n",
       "      <td>1</td>\n",
       "    </tr>\n",
       "    <tr>\n",
       "      <th>75</th>\n",
       "      <td>1</td>\n",
       "    </tr>\n",
       "    <tr>\n",
       "      <th>80's ladies</th>\n",
       "      <td>1</td>\n",
       "    </tr>\n",
       "    <tr>\n",
       "      <th>88 basie street</th>\n",
       "      <td>1</td>\n",
       "    </tr>\n",
       "    <tr>\n",
       "      <th>8:30</th>\n",
       "      <td>1</td>\n",
       "    </tr>\n",
       "    <tr>\n",
       "      <th>9 to 5</th>\n",
       "      <td>2</td>\n",
       "    </tr>\n",
       "    <tr>\n",
       "      <th>...</th>\n",
       "      <td>...</td>\n",
       "    </tr>\n",
       "    <tr>\n",
       "      <th>words</th>\n",
       "      <td>1</td>\n",
       "    </tr>\n",
       "    <tr>\n",
       "      <th>work it</th>\n",
       "      <td>1</td>\n",
       "    </tr>\n",
       "    <tr>\n",
       "      <th>worldwide</th>\n",
       "      <td>1</td>\n",
       "    </tr>\n",
       "    <tr>\n",
       "      <th>worship &amp; faith</th>\n",
       "      <td>1</td>\n",
       "    </tr>\n",
       "    <tr>\n",
       "      <th>worship again</th>\n",
       "      <td>1</td>\n",
       "    </tr>\n",
       "    <tr>\n",
       "      <th>wynton marsalis-edita gruberova-handel, purcell, etc,</th>\n",
       "      <td>1</td>\n",
       "    </tr>\n",
       "    <tr>\n",
       "      <th>x-tra naked</th>\n",
       "      <td>1</td>\n",
       "    </tr>\n",
       "    <tr>\n",
       "      <th>yah mo b there</th>\n",
       "      <td>1</td>\n",
       "    </tr>\n",
       "    <tr>\n",
       "      <th>yes to running! bill harley live</th>\n",
       "      <td>1</td>\n",
       "    </tr>\n",
       "    <tr>\n",
       "      <th>yo por tí</th>\n",
       "      <td>1</td>\n",
       "    </tr>\n",
       "    <tr>\n",
       "      <th>you and i</th>\n",
       "      <td>1</td>\n",
       "    </tr>\n",
       "    <tr>\n",
       "      <th>you are not alone</th>\n",
       "      <td>1</td>\n",
       "    </tr>\n",
       "    <tr>\n",
       "      <th>you are there</th>\n",
       "      <td>1</td>\n",
       "    </tr>\n",
       "    <tr>\n",
       "      <th>you decorated my life</th>\n",
       "      <td>1</td>\n",
       "    </tr>\n",
       "    <tr>\n",
       "      <th>you don't have to be a star (to be in my show)</th>\n",
       "      <td>1</td>\n",
       "    </tr>\n",
       "    <tr>\n",
       "      <th>you don't know how it feels</th>\n",
       "      <td>1</td>\n",
       "    </tr>\n",
       "    <tr>\n",
       "      <th>you gave me love (when nobody gave me a prayer)</th>\n",
       "      <td>1</td>\n",
       "    </tr>\n",
       "    <tr>\n",
       "      <th>you make me feel like dancing</th>\n",
       "      <td>1</td>\n",
       "    </tr>\n",
       "    <tr>\n",
       "      <th>you needed me</th>\n",
       "      <td>1</td>\n",
       "    </tr>\n",
       "    <tr>\n",
       "      <th>you oughta know</th>\n",
       "      <td>2</td>\n",
       "    </tr>\n",
       "    <tr>\n",
       "      <th>you should hear how she talks about you</th>\n",
       "      <td>1</td>\n",
       "    </tr>\n",
       "    <tr>\n",
       "      <th>you're makin' me high</th>\n",
       "      <td>1</td>\n",
       "    </tr>\n",
       "    <tr>\n",
       "      <th>you're still the one</th>\n",
       "      <td>2</td>\n",
       "    </tr>\n",
       "    <tr>\n",
       "      <th>young thing</th>\n",
       "      <td>1</td>\n",
       "    </tr>\n",
       "    <tr>\n",
       "      <th>your secret love</th>\n",
       "      <td>1</td>\n",
       "    </tr>\n",
       "    <tr>\n",
       "      <th>yusef lateef's little symphony</th>\n",
       "      <td>1</td>\n",
       "    </tr>\n",
       "    <tr>\n",
       "      <th>zydeco junkie</th>\n",
       "      <td>1</td>\n",
       "    </tr>\n",
       "    <tr>\n",
       "      <th>¡ahora sí!</th>\n",
       "      <td>1</td>\n",
       "    </tr>\n",
       "    <tr>\n",
       "      <th>¡ritmo!</th>\n",
       "      <td>1</td>\n",
       "    </tr>\n",
       "    <tr>\n",
       "      <th>¿qué es música tejana?</th>\n",
       "      <td>1</td>\n",
       "    </tr>\n",
       "  </tbody>\n",
       "</table>\n",
       "<p>2705 rows × 1 columns</p>\n",
       "</div>"
      ],
      "text/plain": [
       "                                                    cnt\n",
       "name                                                   \n",
       "'ikena                                                1\n",
       "'round midnight                                       2\n",
       "(everything i do) i do it for you (from robin h...    1\n",
       "(hey won't you play) another somebody done some...    1\n",
       "(i'm a) stand by my woman man                         1\n",
       "(i've had) the time of my life                        1\n",
       "(sittin' on) the dock of the bay                      2\n",
       "(there's) no gettin' over me                          1\n",
       "...again                                              1\n",
       "10,000 days                                           1\n",
       "100 años de mariachi                                  1\n",
       "100% mexicano                                         1\n",
       "16 de septiembre                                      1\n",
       "17                                                    1\n",
       "20 feet from stardom                                  1\n",
       "2010 gathering of nations pow wow: a spirit's d...    1\n",
       "24 frames                                             1\n",
       "34th n lex                                            1\n",
       "35th anniversary                                      1\n",
       "4 + four                                              1\n",
       "45                                                    1\n",
       "52nd street                                           2\n",
       "52nd street themes                                    1\n",
       "69 freedom special                                    1\n",
       "70 years of hits                                      1\n",
       "75                                                    1\n",
       "80's ladies                                           1\n",
       "88 basie street                                       1\n",
       "8:30                                                  1\n",
       "9 to 5                                                2\n",
       "...                                                 ...\n",
       "words                                                 1\n",
       "work it                                               1\n",
       "worldwide                                             1\n",
       "worship & faith                                       1\n",
       "worship again                                         1\n",
       "wynton marsalis-edita gruberova-handel, purcell...    1\n",
       "x-tra naked                                           1\n",
       "yah mo b there                                        1\n",
       "yes to running! bill harley live                      1\n",
       "yo por tí                                             1\n",
       "you and i                                             1\n",
       "you are not alone                                     1\n",
       "you are there                                         1\n",
       "you decorated my life                                 1\n",
       "you don't have to be a star (to be in my show)        1\n",
       "you don't know how it feels                           1\n",
       "you gave me love (when nobody gave me a prayer)       1\n",
       "you make me feel like dancing                         1\n",
       "you needed me                                         1\n",
       "you oughta know                                       2\n",
       "you should hear how she talks about you               1\n",
       "you're makin' me high                                 1\n",
       "you're still the one                                  2\n",
       "young thing                                           1\n",
       "your secret love                                      1\n",
       "yusef lateef's little symphony                        1\n",
       "zydeco junkie                                         1\n",
       "¡ahora sí!                                            1\n",
       "¡ritmo!                                               1\n",
       "¿qué es música tejana?                                1\n",
       "\n",
       "[2705 rows x 1 columns]"
      ]
     },
     "execution_count": 53,
     "metadata": {},
     "output_type": "execute_result"
    }
   ],
   "source": [
    "grammy_num = len(grammy)\n",
    "grammy['cnt'] = grammy['year']\n",
    "artist_grammy_count = grammy[['name', 'cnt']].groupby(['name']).count()\n",
    "artist_grammy_count"
   ]
  },
  {
   "cell_type": "code",
   "execution_count": 54,
   "metadata": {},
   "outputs": [
    {
     "data": {
      "text/plain": [
       "912.5860373647985"
      ]
     },
     "execution_count": 54,
     "metadata": {},
     "output_type": "execute_result"
    }
   ],
   "source": [
    "# both grammy and billboard started from 1958\n",
    "grammy_score = bhot100_song_num/grammy_num*100\n",
    "grammy_score"
   ]
  },
  {
   "cell_type": "code",
   "execution_count": 55,
   "metadata": {},
   "outputs": [
    {
     "data": {
      "text/plain": [
       "1982.3495145631068"
      ]
     },
     "execution_count": 55,
     "metadata": {},
     "output_type": "execute_result"
    }
   ],
   "source": [
    "#ama started from 1974\n",
    "ama['cnt'] = ama['year']\n",
    "ama_num = len(ama)\n",
    "ama_score = bhot100_song_num/ama_num*100*(2018-1974)/(2018-1958)\n",
    "ama_score"
   ]
  },
  {
   "cell_type": "code",
   "execution_count": 57,
   "metadata": {},
   "outputs": [],
   "source": [
    "def get_year_billboard_rank_score(rs):\n",
    "    s = 0\n",
    "    for r in rs:\n",
    "        s += norm_score_table_bhot100[int(r-1)]\n",
    "    s += (52 - len(rs))*norm_score_table_bhot100[100]\n",
    "    return s"
   ]
  },
  {
   "cell_type": "code",
   "execution_count": 166,
   "metadata": {},
   "outputs": [],
   "source": [
    "def get_scores(br, gr, ar, release_year):\n",
    "    # order: from the year to now (which is 2018-1958)\n",
    "    b_onchart_ranks = [[] for i in range(61)]\n",
    "    for i in range(len(br)):\n",
    "        on_chart_date_year = int(br.iloc[i]['chart_date'].split('-')[0])\n",
    "        if on_chart_date_year >= 1958 and on_chart_date_year <= 2018:\n",
    "            b_onchart_ranks[on_chart_date_year-1958].append(br.iloc[i]['current_rank'])\n",
    "    \n",
    "    grammy_wins = [0 for i in range(61)]\n",
    "    for i in range(len(gr)):\n",
    "        grammy_win_year = int(gr.iloc[i]['year'])\n",
    "        grammy_win[grammy_win_year - 1958] = 1\n",
    "    \n",
    "    \n",
    "    ama_wins = [0 for i in range(61)]\n",
    "    for i in range(len(gr)):\n",
    "        ama_win_year = int(ar.iloc[i]['year'])\n",
    "        ama_win[ama_win_year - 1958] = 1\n",
    "    \n",
    "    final_scores = []\n",
    "    for i in range(61):\n",
    "        bill_year_score = get_year_billboard_rank_score(b_onchart_ranks[i])\n",
    "        grammy_year_score = grammy_wins[i]*grammy_score/10\n",
    "        ama_year_score = ama_wins[i]*ama_score/10\n",
    "        final_scores.append(bill_year_score+grammy_year_score+ama_year_score)\n",
    "    final_scores.reverse()\n",
    "    return final_scores\n",
    "    "
   ]
  },
  {
   "cell_type": "code",
   "execution_count": 171,
   "metadata": {},
   "outputs": [],
   "source": [
    "def generate_feature():\n",
    "    # from 01/04/1958 - 11/10/2018 22228 days which are 3175 weeks, 61 years\n",
    "    mbhotd = merge_song_bhot100.reset_index()\n",
    "    titles = mbhotd['title'].tolist()\n",
    "    artists = mbhotd['artist_name'].tolist()\n",
    "    feature_d = {'title':[],\n",
    "                'artist_name':[],\n",
    "                 'release_date':[],\n",
    "                'spotify_popularity_2018':[]}\n",
    "    for i in range(0, 61):\n",
    "        feature_d['y_'+str(i)] = []\n",
    "    \n",
    "    for title, name in zip(titles, artists):\n",
    "        bill_records = bhot100[(bhot100['title']==title) & (bhot100['artist_name']==name)]\n",
    "        grammy_records = grammy[(grammy['award_for']==title) & (grammy['name']==name)]\n",
    "        ama_records = ama[(ama['award_for']==title) & (ama['name']==name)]\n",
    "        spotify_records = spotify[(spotify['title']==title) & (spotify['artist_name']==name)]\n",
    "        \n",
    "        \n",
    "        \n",
    "        if len(spotify_records) == 0:\n",
    "#             print (title, name)\n",
    "            continue\n",
    "        \n",
    "#         print (spotify_records)\n",
    "#         print (np.argmax(spotify_records['spotify_score'].tolist()))\n",
    "        sr_real = spotify_records.iloc[np.argmax(spotify_records['spotify_score'].tolist())]\n",
    "        popularity_2018 = sr_real['spotify_score']\n",
    "        datestr = str(sr_real['release_date'])\n",
    "\n",
    "        if len(datestr) <= 4:\n",
    "#             release_date = pd.to_datetime(datestr+'-1-1',format='%Y-%m-%d')\n",
    "            release_date = datestr + '-1-1'\n",
    "        elif len(datestr) == 6 or len(datestr) == 7:\n",
    "#             release_date = pd.to_datetime(datestr+'-1',format='%Y-%m-%d')\n",
    "            release_date = datestr + '-1'\n",
    "        else:\n",
    "            release_date = datestr\n",
    "#             release_date = pd.to_datetime(datestr, format='%Y-%m-%d')\n",
    "        release_year = int(release_date.split('-')[0])\n",
    "        scores = get_scores(bill_records, grammy_records, ama_records, release_year)\n",
    "        \n",
    "        # put in feature dictionary\n",
    "        feature_d['release_date'].append(release_date)\n",
    "        feature_d['title'].append(title)\n",
    "        feature_d['artist_name'].append(name)\n",
    "        feature_d['spotify_popularity_2018'].append(popularity_2018)\n",
    "        for i in range(0, 61):\n",
    "            feature_d['y_'+str(i)].append(scores[i])\n",
    "    feature_df = pd.DataFrame.from_dict(feature_d)\n",
    "    feature_df.to_csv(join_path(data_path, 'features_strong.csv'))\n",
    "        "
   ]
  },
  {
   "cell_type": "code",
   "execution_count": 172,
   "metadata": {},
   "outputs": [
    {
     "data": {
      "text/plain": [
       "2597.7069199085236"
      ]
     },
     "execution_count": 172,
     "metadata": {},
     "output_type": "execute_result"
    }
   ],
   "source": [
    "import time\n",
    "st = time.time()\n",
    "generate_feature()\n",
    "time.time()-st"
   ]
  },
  {
   "cell_type": "code",
   "execution_count": 84,
   "metadata": {},
   "outputs": [
    {
     "name": "stdout",
     "output_type": "stream",
     "text": [
      "25326\n"
     ]
    }
   ],
   "source": [
    "feature_df = pd.read_csv(join_path(data_path, 'features.csv'))\n",
    "FEATURES = ['y_'+str(i) for i in range(0, 61)]\n",
    "print (len(feature_df))"
   ]
  },
  {
   "cell_type": "code",
   "execution_count": 86,
   "metadata": {},
   "outputs": [
    {
     "name": "stdout",
     "output_type": "stream",
     "text": [
      "Coefficients of Linear Regression: \n",
      " [ 0.03956997  0.02442002  0.02137775  0.02154763  0.02063737  0.01872502\n",
      "  0.01902984  0.01800889  0.01118261  0.01826658  0.0158763   0.01750166\n",
      "  0.01805834  0.01686226  0.01572006  0.01628724  0.01563094  0.01244777\n",
      "  0.01350211  0.01716678  0.01062532  0.00926389  0.01198285  0.01199193\n",
      "  0.01258619  0.01466292  0.01150296  0.00876019  0.01079349  0.01257791\n",
      "  0.01475569  0.01478439  0.0144467   0.01442818  0.01590204  0.01391318\n",
      "  0.01060682  0.01220148  0.0099384   0.01365614  0.0135411   0.01107083\n",
      "  0.01199657  0.00866109  0.00903188  0.00882748  0.01165807  0.00865886\n",
      "  0.00472077  0.00392174  0.00442137  0.00414493  0.00303307  0.0022319\n",
      "  0.00104998 -0.00371944 -0.00613672 -0.00689941 -0.00535008 -0.00453734\n",
      " -0.00670548]\n"
     ]
    }
   ],
   "source": [
    "from sklearn import linear_model\n",
    "lr = linear_model.LinearRegression()\n",
    "lr.fit(feature_df[FEATURES], feature_df['spotify_popularity_2018'])\n",
    "lr_coefs = lr.coef_\n",
    "print ('Coefficients of Linear Regression: \\n', lr_coefs)"
   ]
  },
  {
   "cell_type": "code",
   "execution_count": 89,
   "metadata": {},
   "outputs": [
    {
     "data": {
      "text/plain": [
       "<BarContainer object of 61 artists>"
      ]
     },
     "execution_count": 89,
     "metadata": {},
     "output_type": "execute_result"
    },
    {
     "data": {
      "image/png": "[encoded data removed]",
      "text/plain": [
       "<Figure size 432x288 with 1 Axes>"
      ]
     },
     "metadata": {
      "needs_background": "light"
     },
     "output_type": "display_data"
    }
   ],
   "source": [
    "plt.bar(range(len(lr_coefs)), lr_coefs)"
   ]
  },
  {
   "cell_type": "code",
   "execution_count": 91,
   "metadata": {},
   "outputs": [
    {
     "data": {
      "text/plain": [
       "[<matplotlib.lines.Line2D at 0x17c1acbbfd0>]"
      ]
     },
     "execution_count": 91,
     "metadata": {},
     "output_type": "execute_result"
    },
    {
     "data": {
      "image/png": "[encoded data removed]",
      "text/plain": [
       "<Figure size 432x288 with 1 Axes>"
      ]
     },
     "metadata": {
      "needs_background": "light"
     },
     "output_type": "display_data"
    }
   ],
   "source": [
    "plt.plot(range(len(lr_coefs)), np.log(lr_coefs))"
   ]
  },
  {
   "cell_type": "code",
   "execution_count": 96,
   "metadata": {},
   "outputs": [
    {
     "name": "stdout",
     "output_type": "stream",
     "text": [
      "LR RMSE: 19.136723281044148\n"
     ]
    }
   ],
   "source": [
    "lr_popularity_pred = lr.predict(feature_df[FEATURES])\n",
    "lr_popularity_truth = feature_df['spotify_popularity_2018']\n",
    "lr_rmse = np.sqrt(sklearn.metrics.mean_squared_error(lr_popularity_pred, lr_popularity_truth))\n",
    "print (\"LR RMSE: {}\".format(lr_rmse))"
   ]
  },
  {
   "cell_type": "code",
   "execution_count": 97,
   "metadata": {},
   "outputs": [
    {
     "data": {
      "text/plain": [
       "0        65\n",
       "1        18\n",
       "2        51\n",
       "3        53\n",
       "4        63\n",
       "5        65\n",
       "6        70\n",
       "7        20\n",
       "8        35\n",
       "9         3\n",
       "10       12\n",
       "11       34\n",
       "12       34\n",
       "13       41\n",
       "14       43\n",
       "15       49\n",
       "16        6\n",
       "17       63\n",
       "18       14\n",
       "19       21\n",
       "20        4\n",
       "21        7\n",
       "22        5\n",
       "23       16\n",
       "24       22\n",
       "25        6\n",
       "26        1\n",
       "27       41\n",
       "28        6\n",
       "29       23\n",
       "         ..\n",
       "25296    13\n",
       "25297    55\n",
       "25298    60\n",
       "25299     9\n",
       "25300    73\n",
       "25301    40\n",
       "25302    63\n",
       "25303    11\n",
       "25304    80\n",
       "25305    66\n",
       "25306    59\n",
       "25307    69\n",
       "25308    63\n",
       "25309    42\n",
       "25310    35\n",
       "25311    22\n",
       "25312    76\n",
       "25313    57\n",
       "25314     5\n",
       "25315    95\n",
       "25316    15\n",
       "25317    33\n",
       "25318     4\n",
       "25319    20\n",
       "25320    75\n",
       "25321    51\n",
       "25322    46\n",
       "25323    30\n",
       "25324    25\n",
       "25325    15\n",
       "Name: spotify_popularity_2018, Length: 25326, dtype: int64"
      ]
     },
     "execution_count": 97,
     "metadata": {},
     "output_type": "execute_result"
    }
   ],
   "source": [
    "lr_popularity_truth"
   ]
  },
  {
   "cell_type": "code",
   "execution_count": 159,
   "metadata": {},
   "outputs": [],
   "source": [
    "def analysis_rank(df, analysis_range=(1, 100)):\n",
    "    # rank within 10 100 500\n",
    "    l_r = analysis_range[0]\n",
    "    r_r = analysis_range[1]\n",
    "    tp = []\n",
    "    fp = []\n",
    "    tn = []\n",
    "    fn = []\n",
    "    for i in range(len(df)):\n",
    "        r = df.iloc[i]\n",
    "#         print (r)\n",
    "        if r['pred'] >= l_r and r['pred'] <= r_r:\n",
    "            if r['truth'] >= l_r and r['truth'] <= r_r:\n",
    "                tp.append(i)\n",
    "            else:\n",
    "                fp.append(i)\n",
    "        elif r['pred'] < l_r or r['pred'] > r_r:\n",
    "            if r['truth'] >= l_r and r['truth'] <= r_r:\n",
    "                fn.append(i)\n",
    "            else:\n",
    "                tn.append(i)\n",
    "    return tp, fp, tn, fn, len(tp)/(len(tp)+len(fp)), len(tp)/(len(tp)+len(fn))"
   ]
  },
  {
   "cell_type": "code",
   "execution_count": 239,
   "metadata": {},
   "outputs": [],
   "source": [
    "def analysis_model(popularity_pred, mdname=''):\n",
    "#     popularity_pred = md.predict(feature_gap_df[FEATURES])\n",
    "    popularity_truth = feature_gap_df['spotify_popularity_2018']\n",
    "#     release_date = feature_df['release_date']\n",
    "    rmse = np.sqrt(sklearn.metrics.mean_squared_error(popularity_pred, popularity_truth))\n",
    "    print (\"RMSE: {}\".format(rmse))\n",
    "    \n",
    "    \n",
    "    popularity_pred = pd.Series(popularity_pred)\n",
    "#     print (popularity_pred)\n",
    "    \n",
    "    popularity_pred = popularity_pred.sort_values(ascending=False)\n",
    "    popularity_truth = popularity_truth.sort_values(ascending=False)\n",
    "    \n",
    "#     print(popularity_pred.index, popularity_truth.index)\n",
    "    \n",
    "#     if not os.path.exists(join_path(data_path, mdname+'_pred_rank.csv')):\n",
    "    popularity_pred_index = popularity_pred.index.tolist()\n",
    "    popularity_truth_index = popularity_truth.index.tolist()\n",
    "\n",
    "    ranks_d = {'pred':[], 'truth':[], 'title':[], 'artist_name':[], 'release_date':[], \n",
    "               'error':[], 'spotify_popularity_2018':[], 'predicted_popularity':[],\n",
    "                'peak_rank':[], 'weeks_on_chart':[], 'onchart_dates':[], 'bill_ranks':[],\n",
    "                'grammy':[], 'ama':[],\n",
    "               'index':[]}\n",
    "    for rank_pred, index in enumerate(popularity_pred_index):\n",
    "        rank_truth = popularity_truth_index.index(index)+1\n",
    "        title = feature_gap_df['title'].iloc[index]\n",
    "        artist_name = feature_gap_df['artist_name'].iloc[index]\n",
    "        release_date = feature_gap_df['release_date'].iloc[index]\n",
    "        \n",
    "        bill_records = bhot100[(bhot100['title']==title) & (bhot100['artist_name']==artist_name)]\n",
    "        grammy_records = grammy[(grammy['award_for']==title) & (grammy['name']==artist_name)]\n",
    "        ama_records = ama[(ama['award_for']==title) & (ama['name']==artist_name)]\n",
    "        \n",
    "        \n",
    "        \n",
    "        ranks_d['pred'].append(rank_pred+1)\n",
    "        ranks_d['truth'].append(rank_truth)\n",
    "        ranks_d['title'].append(title)\n",
    "        ranks_d['artist_name'].append(artist_name)\n",
    "        ranks_d['release_date'].append(release_date)\n",
    "        ranks_d['error'].append(abs(rank_truth-rank_pred))\n",
    "        ranks_d['spotify_popularity_2018'].append(feature_gap_df['spotify_popularity_2018'].iloc[index])\n",
    "        ranks_d['predicted_popularity'].append(popularity_pred.iloc[rank_pred])\n",
    "        ranks_d['peak_rank'].append(np.min(bill_records['current_rank'].tolist()))\n",
    "        ranks_d['weeks_on_chart'].append(len(bill_records))\n",
    "        ranks_d['onchart_dates'].append('|'.join(bill_records['chart_date'].tolist()))\n",
    "        ranks_d['bill_ranks'].append('|'.join([str(i) for i in bill_records['current_rank'].tolist()]))\n",
    "        ranks_d['grammy'].append(len(grammy_records))\n",
    "        ranks_d['ama'].append(len(ama_records))\n",
    "        ranks_d['index'].append(index)\n",
    "    ranks_df = pd.DataFrame.from_dict(ranks_d)\n",
    "\n",
    "    ranks_df.to_csv(join_path(data_path, mdname+'_pred_rank_stat.csv'))\n",
    "#     else:\n",
    "#         ranks_df = pd.read_csv(join_path(data_path, mdname+'_pred_rank.csv'))\n",
    "    \n",
    "    rank_rmse = np.sqrt(np.sum((np.array(ranks_df['pred']) - np.array(ranks_df['truth']))**2)/len(ranks_df))\n",
    "    print ('{} Rank RMSE: {}'.format(mdname, rank_rmse))\n",
    "    \n",
    "    \n",
    "    analysis_ranges = [(1, 10), (1, 100), (1, 200), (1, 500), (1, 1000)]\n",
    "    for r in analysis_ranges:\n",
    "        tp, fp, tn, fn, precision, recall = analysis_rank(ranks_df, r)\n",
    "#         print (len(tp), len(fp), len(tn), len(fn))\n",
    "#         print (fp, fn)\n",
    "        print (\"Top {} Percision: {}, Recall: {}\".format(r[1], precision, recall))\n",
    "    \n",
    "    another_mh100 = bhot100.groupby(['title', 'artist_name'])['on_chart_weeks'].max().reset_index().sort_values(['on_chart_weeks'], ascending=False)"
   ]
  },
  {
   "cell_type": "code",
   "execution_count": 165,
   "metadata": {},
   "outputs": [
    {
     "name": "stdout",
     "output_type": "stream",
     "text": [
      "RMSE: 19.136723281044148\n",
      "LR Rank RMSE: 7137.524667359253\n",
      "Top 10 Percision: 0.0, Recall: 0.0\n",
      "Top 100 Percision: 0.24, Recall: 0.24\n",
      "Top 200 Percision: 0.33, Recall: 0.33\n",
      "Top 500 Percision: 0.314, Recall: 0.314\n",
      "Top 1000 Percision: 0.349, Recall: 0.349\n"
     ]
    }
   ],
   "source": [
    "analysis_model(lr, 'LR')"
   ]
  },
  {
   "cell_type": "code",
   "execution_count": 195,
   "metadata": {},
   "outputs": [
    {
     "name": "stdout",
     "output_type": "stream",
     "text": [
      "Coefficients of Linear Regression: \n",
      " [21.18850894 11.75034257 11.16105218 10.83903418  9.90090273  8.71139906\n",
      "  8.78756889  8.68153932  5.81322898  8.26976686  6.86075368  7.5662465\n",
      "  7.52599912  7.32536719  6.65979499  6.69622689  6.18092681  5.45826129\n",
      "  5.82432539  6.50062612  4.14511408  3.58123369  4.88721595  4.81521377\n",
      "  5.34349734  5.6142408   3.93249351  2.93927644  3.64739754  4.09656306\n",
      "  4.89239458  4.62334078  4.44141     4.36089903  4.82745819  4.2362845\n",
      "  3.43722325  3.93251635  3.10130601  4.10924159  4.29840756  3.5268185\n",
      "  3.50409519  2.63833317  2.72442176  2.56552932  3.07681084  2.21852473\n",
      "  1.11788323  1.07970546  1.0540988   0.88860938  0.63535978  0.45940583\n",
      "  0.05007049 -0.94113595 -1.48728917 -1.80274724 -1.37869654 -1.36977561\n",
      " -1.38830983]\n"
     ]
    }
   ],
   "source": [
    "feature_gap_df = pd.read_csv(join_path(data_path, 'features_ga0.1.csv')) # g, a penalty\n",
    "FEATURES = ['y_'+str(i) for i in range(0, 61)]\n",
    "# print (len(feature_df))\n",
    "lr_gap = linear_model.LinearRegression()\n",
    "lr_gap.fit(np.log(feature_gap_df[FEATURES]), feature_gap_df['spotify_popularity_2018'])\n",
    "lr_gap_coefs = lr_gap.coef_\n",
    "print ('Coefficients of Linear Regression: \\n', lr_gap_coefs)"
   ]
  },
  {
   "cell_type": "code",
   "execution_count": 196,
   "metadata": {},
   "outputs": [
    {
     "data": {
      "text/plain": [
       "<BarContainer object of 61 artists>"
      ]
     },
     "execution_count": 196,
     "metadata": {},
     "output_type": "execute_result"
    },
    {
     "data": {
      "image/png": "[encoded data removed]",
      "text/plain": [
       "<Figure size 432x288 with 1 Axes>"
      ]
     },
     "metadata": {
      "needs_background": "light"
     },
     "output_type": "display_data"
    }
   ],
   "source": [
    "plt.bar(range(len(lr_gap_coefs)), lr_gap_coefs)"
   ]
  },
  {
   "cell_type": "code",
   "execution_count": 197,
   "metadata": {},
   "outputs": [
    {
     "name": "stderr",
     "output_type": "stream",
     "text": [
      "C:\\ProgramData\\Anaconda3\\lib\\site-packages\\ipykernel_launcher.py:1: RuntimeWarning: invalid value encountered in log\n",
      "  \"\"\"Entry point for launching an IPython kernel.\n"
     ]
    },
    {
     "data": {
      "text/plain": [
       "[<matplotlib.lines.Line2D at 0x17c19d145f8>]"
      ]
     },
     "execution_count": 197,
     "metadata": {},
     "output_type": "execute_result"
    },
    {
     "data": {
      "image/png": "[encoded data removed]",
      "text/plain": [
       "<Figure size 432x288 with 1 Axes>"
      ]
     },
     "metadata": {
      "needs_background": "light"
     },
     "output_type": "display_data"
    }
   ],
   "source": [
    "plt.plot(range(len(lr_gap_coefs)), np.log(lr_gap_coefs))"
   ]
  },
  {
   "cell_type": "code",
   "execution_count": 198,
   "metadata": {},
   "outputs": [
    {
     "name": "stdout",
     "output_type": "stream",
     "text": [
      "LR RMSE: 16714.31036109551\n"
     ]
    }
   ],
   "source": [
    "lr_gap_popularity_pred = lr_gap.predict(feature_gap_df[FEATURES])\n",
    "lr_gap_popularity_truth = feature_gap_df['spotify_popularity_2018']\n",
    "lr_gap_rmse = np.sqrt(sklearn.metrics.mean_squared_error(lr_gap_popularity_pred, lr_gap_popularity_truth))\n",
    "print (\"LR RMSE: {}\".format(lr_gap_rmse))"
   ]
  },
  {
   "cell_type": "code",
   "execution_count": 199,
   "metadata": {},
   "outputs": [
    {
     "name": "stdout",
     "output_type": "stream",
     "text": [
      "RMSE: 16714.31036109551\n",
      "LR_gap Rank RMSE: 7137.524667359253\n",
      "Top 10 Percision: 0.0, Recall: 0.0\n",
      "Top 100 Percision: 0.24, Recall: 0.24\n",
      "Top 200 Percision: 0.33, Recall: 0.33\n",
      "Top 500 Percision: 0.314, Recall: 0.314\n",
      "Top 1000 Percision: 0.349, Recall: 0.349\n"
     ]
    }
   ],
   "source": [
    "analysis_model(lr_gap, 'LR_gap')"
   ]
  },
  {
   "cell_type": "code",
   "execution_count": 194,
   "metadata": {},
   "outputs": [
    {
     "name": "stdout",
     "output_type": "stream",
     "text": [
      "[-6.93889390e-18  1.38777878e-17  1.04083409e-16  3.46944695e-18\n",
      " -6.93889390e-18 -1.11022302e-16  6.93889390e-18  6.93889390e-17\n",
      "  1.90819582e-17  5.55111512e-17  3.46944695e-17 -3.46944695e-18\n",
      "  6.93889390e-18  1.63064007e-16 -1.04083409e-17  3.12250226e-17\n",
      "  4.51028104e-17  5.20417043e-18  2.08166817e-17  6.93889390e-18\n",
      "  0.00000000e+00  1.73472348e-17  4.51028104e-17  4.16333634e-17\n",
      "  6.07153217e-17 -7.11236625e-17  5.03069808e-17  1.73472348e-18\n",
      "  1.73472348e-17  8.15320034e-17  5.20417043e-17  4.51028104e-17\n",
      "  1.73472348e-18  1.73472348e-17  2.77555756e-17  2.08166817e-17\n",
      "  5.20417043e-18  2.77555756e-17  5.20417043e-18  1.90819582e-17\n",
      "  3.98986399e-17  3.98986399e-17  3.12250226e-17  3.29597460e-17\n",
      "  5.20417043e-17 -5.20417043e-18  1.56125113e-17 -3.46944695e-18\n",
      "  1.47451495e-17  1.38777878e-17  2.25514052e-17  6.07153217e-18\n",
      "  1.56125113e-17  2.77555756e-17  2.55871713e-17  1.90819582e-17\n",
      "  1.38777878e-17 -5.20417043e-18 -6.93889390e-18  3.12250226e-17\n",
      " -3.81639165e-17]\n"
     ]
    }
   ],
   "source": [
    "print (lr_gap_coefs - lr_coefs)"
   ]
  },
  {
   "cell_type": "code",
   "execution_count": 226,
   "metadata": {},
   "outputs": [],
   "source": [
    "import lightgbm as lgbm\n",
    "def run_lgb(train_X, train_y, val_X, val_y, test_X, mode='train'):\n",
    "    params = {\n",
    "        \"objective\" : \"regression\",\n",
    "        'nthread': 16,\n",
    "        \"num_leaves\" : 200,\n",
    "        \"metric\" : \"rmse\", \n",
    "        \"learning_rate\" : 0.1,\n",
    "        \"bagging_fraction\" : 0.7,\n",
    "        \"feature_fraction\" : 0.5,\n",
    "        \"bagging_seed\" : 519,\n",
    "        'min_split_gain': 0.5,\n",
    "        'min_child_weight': 1,\n",
    "        'min_child_samples': 100,\n",
    "        'scale_pos_weight':1,\n",
    "        \"verbosity\" : -1\n",
    "    }\n",
    "    \n",
    "    lgtrain = lgbm.Dataset(train_X, label=train_y)\n",
    "    lgval = lgbm.Dataset(val_X, label=val_y)\n",
    "    model = lgbm.train(params, lgtrain, 250000, valid_sets=[lgval], early_stopping_rounds=1000, verbose_eval=2500)\n",
    "    \n",
    "#     if mode=='train':\n",
    "    pred_test_y = model.predict(test_X, num_iteration=model.best_iteration)\n",
    "#     pred_val_y = model.predict(val_X, num_iteration=model.best_iteration)\n",
    "#     elif mode=='permutation':\n",
    "#         pred_val_y = model.predict(val_X, num_iteration=model.best_iteration)\n",
    "#         pred_test_y=0\n",
    "    return model, pred_test_y"
   ]
  },
  {
   "cell_type": "code",
   "execution_count": 209,
   "metadata": {},
   "outputs": [
    {
     "name": "stdout",
     "output_type": "stream",
     "text": [
      "Training until validation scores don't improve for 1000 rounds.\n",
      "[2500]\tvalid_0's rmse: 13.0253\n",
      "[5000]\tvalid_0's rmse: 12.3541\n",
      "[7500]\tvalid_0's rmse: 11.9393\n",
      "[10000]\tvalid_0's rmse: 11.6507\n",
      "[12500]\tvalid_0's rmse: 11.4865\n",
      "[15000]\tvalid_0's rmse: 11.4108\n",
      "[17500]\tvalid_0's rmse: 11.3825\n",
      "[20000]\tvalid_0's rmse: 11.3754\n",
      "[22500]\tvalid_0's rmse: 11.3733\n",
      "[25000]\tvalid_0's rmse: 11.3718\n",
      "[27500]\tvalid_0's rmse: 11.3703\n",
      "[30000]\tvalid_0's rmse: 11.3692\n",
      "[32500]\tvalid_0's rmse: 11.3674\n",
      "[35000]\tvalid_0's rmse: 11.3665\n",
      "[37500]\tvalid_0's rmse: 11.3657\n",
      "[40000]\tvalid_0's rmse: 11.3648\n",
      "[42500]\tvalid_0's rmse: 11.3641\n",
      "[45000]\tvalid_0's rmse: 11.3626\n",
      "[47500]\tvalid_0's rmse: 11.362\n",
      "[50000]\tvalid_0's rmse: 11.3613\n",
      "[52500]\tvalid_0's rmse: 11.3608\n",
      "[55000]\tvalid_0's rmse: 11.3603\n",
      "[57500]\tvalid_0's rmse: 11.3598\n",
      "[60000]\tvalid_0's rmse: 11.3594\n",
      "Early stopping, best iteration is:\n",
      "[60387]\tvalid_0's rmse: 11.3594\n"
     ]
    }
   ],
   "source": [
    "lgbm_gap_model, lgbm_gap_pred = run_lgb(feature_gap_df[FEATURES], feature_gap_df['spotify_popularity_2018'], \n",
    "                                       feature_gap_df[FEATURES], feature_gap_df['spotify_popularity_2018'], feature_gap_df[FEATURES])"
   ]
  },
  {
   "cell_type": "code",
   "execution_count": null,
   "metadata": {},
   "outputs": [
    {
     "name": "stdout",
     "output_type": "stream",
     "text": [
      "RMSE: 11.359372151578517\n"
     ]
    }
   ],
   "source": [
    "analysis_model(lgbm_gap_pred, 'LGBM_gap')"
   ]
  },
  {
   "cell_type": "code",
   "execution_count": 227,
   "metadata": {},
   "outputs": [
    {
     "name": "stdout",
     "output_type": "stream",
     "text": [
      "Training until validation scores don't improve for 1000 rounds.\n",
      "[2500]\tvalid_0's rmse: 13.1851\n",
      "[5000]\tvalid_0's rmse: 12.6021\n",
      "[7500]\tvalid_0's rmse: 12.2643\n",
      "[10000]\tvalid_0's rmse: 12.0989\n",
      "[12500]\tvalid_0's rmse: 12.0653\n",
      "[15000]\tvalid_0's rmse: 12.0612\n",
      "Early stopping, best iteration is:\n",
      "[15127]\tvalid_0's rmse: 12.0609\n",
      "RMSE: 12.060877539072775\n",
      "LGBM_52 Rank RMSE: 4289.848914637458\n",
      "Top 10 Percision: 0.0, Recall: 0.0\n",
      "Top 100 Percision: 0.45, Recall: 0.45\n",
      "Top 200 Percision: 0.54, Recall: 0.54\n",
      "Top 500 Percision: 0.574, Recall: 0.574\n",
      "Top 1000 Percision: 0.617, Recall: 0.617\n"
     ]
    }
   ],
   "source": [
    "lgbm_gap_52_model, lgbm_gap_52_pred = run_lgb(feature_gap_df[FEATURES]-52, feature_gap_df['spotify_popularity_2018'], \n",
    "                                       feature_gap_df[FEATURES]-52, feature_gap_df['spotify_popularity_2018'], feature_gap_df[FEATURES]-52)\n",
    "analysis_model(lgbm_gap_52_pred, 'LGBM_gap_52')"
   ]
  },
  {
   "cell_type": "code",
   "execution_count": 228,
   "metadata": {},
   "outputs": [
    {
     "name": "stdout",
     "output_type": "stream",
     "text": [
      "Training until validation scores don't improve for 1000 rounds.\n",
      "[2500]\tvalid_0's rmse: 13.0215\n",
      "[5000]\tvalid_0's rmse: 12.3503\n",
      "[7500]\tvalid_0's rmse: 11.9351\n",
      "[10000]\tvalid_0's rmse: 11.6517\n",
      "[12500]\tvalid_0's rmse: 11.4886\n",
      "[15000]\tvalid_0's rmse: 11.4142\n",
      "[17500]\tvalid_0's rmse: 11.3869\n",
      "[20000]\tvalid_0's rmse: 11.3798\n",
      "[22500]\tvalid_0's rmse: 11.3772\n",
      "[25000]\tvalid_0's rmse: 11.3757\n",
      "[27500]\tvalid_0's rmse: 11.3741\n",
      "[30000]\tvalid_0's rmse: 11.3725\n",
      "[32500]\tvalid_0's rmse: 11.3707\n",
      "[35000]\tvalid_0's rmse: 11.3698\n",
      "[37500]\tvalid_0's rmse: 11.369\n",
      "[40000]\tvalid_0's rmse: 11.3682\n",
      "[42500]\tvalid_0's rmse: 11.3675\n",
      "[45000]\tvalid_0's rmse: 11.3668\n",
      "[47500]\tvalid_0's rmse: 11.3662\n",
      "[50000]\tvalid_0's rmse: 11.3647\n",
      "[52500]\tvalid_0's rmse: 11.3641\n",
      "[55000]\tvalid_0's rmse: 11.3636\n",
      "[57500]\tvalid_0's rmse: 11.3631\n",
      "[60000]\tvalid_0's rmse: 11.3627\n",
      "Early stopping, best iteration is:\n",
      "[59620]\tvalid_0's rmse: 11.3627\n",
      "RMSE: 11.362678651513164\n",
      "LGBM Rank RMSE: 4003.4147541805314\n",
      "Top 10 Percision: 0.0, Recall: 0.0\n",
      "Top 100 Percision: 0.46, Recall: 0.46\n",
      "Top 200 Percision: 0.58, Recall: 0.58\n",
      "Top 500 Percision: 0.588, Recall: 0.588\n",
      "Top 1000 Percision: 0.626, Recall: 0.626\n"
     ]
    }
   ],
   "source": [
    "lgbm_model, lgbm_pred = run_lgb(feature_df[FEATURES], feature_df['spotify_popularity_2018'], \n",
    "                                       feature_df[FEATURES], feature_df['spotify_popularity_2018'], feature_gap_df[FEATURES])\n",
    "analysis_model(lgbm_pred, 'LGBM')"
   ]
  },
  {
   "cell_type": "code",
   "execution_count": 236,
   "metadata": {},
   "outputs": [
    {
     "name": "stdout",
     "output_type": "stream",
     "text": [
      "Training until validation scores don't improve for 1000 rounds.\n",
      "[2500]\tvalid_0's rmse: 13.1851\n",
      "[5000]\tvalid_0's rmse: 12.6021\n",
      "[7500]\tvalid_0's rmse: 12.2643\n",
      "[10000]\tvalid_0's rmse: 12.0989\n",
      "[12500]\tvalid_0's rmse: 12.0653\n",
      "[15000]\tvalid_0's rmse: 12.0612\n",
      "Early stopping, best iteration is:\n",
      "[15127]\tvalid_0's rmse: 12.0609\n",
      "RMSE: 12.060877539072775\n",
      "LGBM Rank RMSE: 4289.848914637458\n",
      "Top 10 Percision: 0.0, Recall: 0.0\n",
      "Top 100 Percision: 0.45, Recall: 0.45\n",
      "Top 200 Percision: 0.54, Recall: 0.54\n",
      "Top 500 Percision: 0.574, Recall: 0.574\n",
      "Top 1000 Percision: 0.617, Recall: 0.617\n"
     ]
    }
   ],
   "source": [
    "lgbm_52_model, lgbm_52_pred = run_lgb(feature_df[FEATURES]-52, feature_df['spotify_popularity_2018'], \n",
    "                                       feature_df[FEATURES]-52, feature_df['spotify_popularity_2018'], feature_gap_df[FEATURES]-52)\n",
    "analysis_model(lgbm_52_pred, 'LGBM')"
   ]
  },
  {
   "cell_type": "code",
   "execution_count": 233,
   "metadata": {},
   "outputs": [],
   "source": [
    "def run_classify_lgb(train_X, train_y, val_X, val_y, test_X, mode='train'):\n",
    "    params = {\n",
    "        \"objective\" : \"multiclass\",\n",
    "        \"num_class\": 100,\n",
    "        'nthread': 16,\n",
    "        \"num_leaves\" : 200,\n",
    "        \"metric\" : \"multi_error\", \n",
    "        \"learning_rate\" : 0.1,\n",
    "        \"bagging_fraction\" : 0.7,\n",
    "        \"feature_fraction\" : 0.5,\n",
    "        \"bagging_seed\" : 519,\n",
    "        'min_split_gain': 0.5,\n",
    "        'min_child_weight': 1,\n",
    "        'min_child_samples': 100,\n",
    "        'scale_pos_weight':1,\n",
    "        \"verbosity\" : -1\n",
    "    }\n",
    "    \n",
    "    lgtrain = lgbm.Dataset(train_X, label=train_y)\n",
    "    lgval = lgbm.Dataset(val_X, label=val_y)\n",
    "    model = lgbm.train(params, lgtrain, 250000, valid_sets=[lgval], early_stopping_rounds=1000, verbose_eval=2500)\n",
    "    \n",
    "    pred_test_y = model.predict(test_X, num_iteration=model.best_iteration)\n",
    "\n",
    "    return model, pred_test_y"
   ]
  },
  {
   "cell_type": "code",
   "execution_count": 234,
   "metadata": {},
   "outputs": [
    {
     "name": "stdout",
     "output_type": "stream",
     "text": [
      "Training until validation scores don't improve for 1000 rounds.\n",
      "Early stopping, best iteration is:\n",
      "[134]\tvalid_0's multi_error: 0.876017\n"
     ]
    },
    {
     "ename": "ValueError",
     "evalue": "y_true and y_pred have different number of output (100!=1)",
     "output_type": "error",
     "traceback": [
      "\u001b[1;31m---------------------------------------------------------------------------\u001b[0m",
      "\u001b[1;31mValueError\u001b[0m                                Traceback (most recent call last)",
      "\u001b[1;32m<ipython-input-234-5492921b2d10>\u001b[0m in \u001b[0;36m<module>\u001b[1;34m\u001b[0m\n\u001b[0;32m      1\u001b[0m lgbm_cl_model, lgbm_cl_pred = run_classify_lgb(feature_df[FEATURES], feature_df['spotify_popularity_2018'], \n\u001b[0;32m      2\u001b[0m                                        feature_df[FEATURES], feature_df['spotify_popularity_2018'], feature_gap_df[FEATURES])\n\u001b[1;32m----> 3\u001b[1;33m \u001b[0manalysis_model\u001b[0m\u001b[1;33m(\u001b[0m\u001b[0mlgbm_cl_pred\u001b[0m\u001b[1;33m,\u001b[0m \u001b[1;34m'LGBM_cl'\u001b[0m\u001b[1;33m)\u001b[0m\u001b[1;33m\u001b[0m\u001b[0m\n\u001b[0m",
      "\u001b[1;32m<ipython-input-223-1fed13cba254>\u001b[0m in \u001b[0;36manalysis_model\u001b[1;34m(popularity_pred, mdname)\u001b[0m\n\u001b[0;32m      3\u001b[0m     \u001b[0mpopularity_truth\u001b[0m \u001b[1;33m=\u001b[0m \u001b[0mfeature_gap_df\u001b[0m\u001b[1;33m[\u001b[0m\u001b[1;34m'spotify_popularity_2018'\u001b[0m\u001b[1;33m]\u001b[0m\u001b[1;33m\u001b[0m\u001b[0m\n\u001b[0;32m      4\u001b[0m \u001b[1;31m#     release_date = feature_df['release_date']\u001b[0m\u001b[1;33m\u001b[0m\u001b[1;33m\u001b[0m\u001b[0m\n\u001b[1;32m----> 5\u001b[1;33m     \u001b[0mrmse\u001b[0m \u001b[1;33m=\u001b[0m \u001b[0mnp\u001b[0m\u001b[1;33m.\u001b[0m\u001b[0msqrt\u001b[0m\u001b[1;33m(\u001b[0m\u001b[0msklearn\u001b[0m\u001b[1;33m.\u001b[0m\u001b[0mmetrics\u001b[0m\u001b[1;33m.\u001b[0m\u001b[0mmean_squared_error\u001b[0m\u001b[1;33m(\u001b[0m\u001b[0mpopularity_pred\u001b[0m\u001b[1;33m,\u001b[0m \u001b[0mpopularity_truth\u001b[0m\u001b[1;33m)\u001b[0m\u001b[1;33m)\u001b[0m\u001b[1;33m\u001b[0m\u001b[0m\n\u001b[0m\u001b[0;32m      6\u001b[0m     \u001b[0mprint\u001b[0m \u001b[1;33m(\u001b[0m\u001b[1;34m\"RMSE: {}\"\u001b[0m\u001b[1;33m.\u001b[0m\u001b[0mformat\u001b[0m\u001b[1;33m(\u001b[0m\u001b[0mrmse\u001b[0m\u001b[1;33m)\u001b[0m\u001b[1;33m)\u001b[0m\u001b[1;33m\u001b[0m\u001b[0m\n\u001b[0;32m      7\u001b[0m \u001b[1;33m\u001b[0m\u001b[0m\n",
      "\u001b[1;32mC:\\ProgramData\\Anaconda3\\lib\\site-packages\\sklearn\\metrics\\regression.py\u001b[0m in \u001b[0;36mmean_squared_error\u001b[1;34m(y_true, y_pred, sample_weight, multioutput)\u001b[0m\n\u001b[0;32m    237\u001b[0m     \"\"\"\n\u001b[0;32m    238\u001b[0m     y_type, y_true, y_pred, multioutput = _check_reg_targets(\n\u001b[1;32m--> 239\u001b[1;33m         y_true, y_pred, multioutput)\n\u001b[0m\u001b[0;32m    240\u001b[0m     \u001b[0mcheck_consistent_length\u001b[0m\u001b[1;33m(\u001b[0m\u001b[0my_true\u001b[0m\u001b[1;33m,\u001b[0m \u001b[0my_pred\u001b[0m\u001b[1;33m,\u001b[0m \u001b[0msample_weight\u001b[0m\u001b[1;33m)\u001b[0m\u001b[1;33m\u001b[0m\u001b[0m\n\u001b[0;32m    241\u001b[0m     output_errors = np.average((y_true - y_pred) ** 2, axis=0,\n",
      "\u001b[1;32mC:\\ProgramData\\Anaconda3\\lib\\site-packages\\sklearn\\metrics\\regression.py\u001b[0m in \u001b[0;36m_check_reg_targets\u001b[1;34m(y_true, y_pred, multioutput)\u001b[0m\n\u001b[0;32m     85\u001b[0m     \u001b[1;32mif\u001b[0m \u001b[0my_true\u001b[0m\u001b[1;33m.\u001b[0m\u001b[0mshape\u001b[0m\u001b[1;33m[\u001b[0m\u001b[1;36m1\u001b[0m\u001b[1;33m]\u001b[0m \u001b[1;33m!=\u001b[0m \u001b[0my_pred\u001b[0m\u001b[1;33m.\u001b[0m\u001b[0mshape\u001b[0m\u001b[1;33m[\u001b[0m\u001b[1;36m1\u001b[0m\u001b[1;33m]\u001b[0m\u001b[1;33m:\u001b[0m\u001b[1;33m\u001b[0m\u001b[0m\n\u001b[0;32m     86\u001b[0m         raise ValueError(\"y_true and y_pred have different number of output \"\n\u001b[1;32m---> 87\u001b[1;33m                          \"({0}!={1})\".format(y_true.shape[1], y_pred.shape[1]))\n\u001b[0m\u001b[0;32m     88\u001b[0m \u001b[1;33m\u001b[0m\u001b[0m\n\u001b[0;32m     89\u001b[0m     \u001b[0mn_outputs\u001b[0m \u001b[1;33m=\u001b[0m \u001b[0my_true\u001b[0m\u001b[1;33m.\u001b[0m\u001b[0mshape\u001b[0m\u001b[1;33m[\u001b[0m\u001b[1;36m1\u001b[0m\u001b[1;33m]\u001b[0m\u001b[1;33m\u001b[0m\u001b[0m\n",
      "\u001b[1;31mValueError\u001b[0m: y_true and y_pred have different number of output (100!=1)"
     ]
    }
   ],
   "source": [
    "lgbm_cl_model, lgbm_cl_pred = run_classify_lgb(feature_df[FEATURES], feature_df['spotify_popularity_2018'], \n",
    "                                       feature_df[FEATURES], feature_df['spotify_popularity_2018'], feature_gap_df[FEATURES])\n",
    "analysis_model(lgbm_cl_pred, 'LGBM_cl')"
   ]
  },
  {
   "cell_type": "code",
   "execution_count": 235,
   "metadata": {},
   "outputs": [
    {
     "name": "stdout",
     "output_type": "stream",
     "text": [
      "[[2.61575397e-02 6.23362739e-03 2.57667532e-03 ... 4.52188393e-04\n",
      "  8.71889083e-18 8.71889085e-03]\n",
      " [5.31366240e-02 1.01610083e-02 1.85968680e-03 ... 3.83200820e-04\n",
      "  7.38870382e-18 7.38870384e-03]\n",
      " [2.18432679e-02 5.75233771e-03 6.26825463e-03 ... 4.93669490e-04\n",
      "  9.51871046e-18 9.51871049e-03]\n",
      " ...\n",
      " [5.27558696e-02 9.54617734e-03 1.33562986e-02 ... 4.91867690e-04\n",
      "  9.48396897e-18 9.48396899e-03]\n",
      " [2.78943225e-02 1.77130270e-02 5.87171325e-03 ... 4.44022699e-04\n",
      "  8.56144362e-18 8.56144364e-03]\n",
      " [1.65064990e-01 6.79685136e-02 1.73226597e-01 ... 2.52462860e-04\n",
      "  4.86787397e-18 4.86787399e-03]]\n"
     ]
    }
   ],
   "source": [
    "print (lgbm_cl_pred)"
   ]
  },
  {
   "cell_type": "code",
   "execution_count": null,
   "metadata": {},
   "outputs": [],
   "source": []
  }
 ],
 "metadata": {
  "kernelspec": {
   "display_name": "Python 3",
   "language": "python",
   "name": "python3"
  },
  "language_info": {
   "codemirror_mode": {
    "name": "ipython",
    "version": 3
   },
   "file_extension": ".py",
   "mimetype": "text/x-python",
   "name": "python",
   "nbconvert_exporter": "python",
   "pygments_lexer": "ipython3",
   "version": "3.6.6"
  }
 },
 "nbformat": 4,
 "nbformat_minor": 2
}
