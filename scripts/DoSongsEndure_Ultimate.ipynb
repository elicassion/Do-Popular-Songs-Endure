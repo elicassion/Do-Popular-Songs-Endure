{
 "cells": [
  {
   "cell_type": "code",
   "execution_count": 1,
   "metadata": {},
   "outputs": [],
   "source": [
    "%matplotlib inline\n",
    "import codecs, os, sys, json, string\n",
    "import matplotlib.pyplot as plt\n",
    "import matplotlib.dates as mdate\n",
    "import numpy as np\n",
    "import pandas as pd\n",
    "import xgboost as xgb\n",
    "import seaborn as sns\n",
    "from sklearn import preprocessing\n",
    "# import sympy\n",
    "# from sympy import symbols, integrate\n",
    "from sympy import *"
   ]
  },
  {
   "cell_type": "code",
   "execution_count": 2,
   "metadata": {},
   "outputs": [],
   "source": [
    "def join_path(d, file):\n",
    "    return os.path.join(d, file)"
   ]
  },
  {
   "cell_type": "code",
   "execution_count": 29,
   "metadata": {},
   "outputs": [],
   "source": [
    "data_path = \"..\\\\data\\\\extracted\\\\\"\n",
    "bhot100 = pd.read_csv(join_path(data_path, 'hot-100.csv'))\n",
    "bhot100['title'] = bhot100.apply(lambda row: row['title'].lower().strip(), axis=1)\n",
    "bhot100['artist_name'] = bhot100.apply(lambda row: row['artist_name'].lower().strip(), axis=1)\n",
    "grammy = pd.read_csv(join_path(data_path, 'grammy.csv'), \n",
    "                     dtype={'award_for': 'str',\n",
    "                            'name': 'str'\n",
    "                        })\n",
    "grammy['award_for'] = grammy.apply(lambda row: str(row['award_for']).lower().strip(), axis=1)\n",
    "grammy['name'] = grammy.apply(lambda row: str(row['name']).lower().strip(), axis=1)\n",
    "grammy = grammy[grammy['award_type']=='Individual']\n",
    "ama = pd.read_csv(join_path(data_path, 'ama.csv'), \n",
    "                    dtype={'award_for': 'str',\n",
    "                            'name': 'str'\n",
    "                    })\n",
    "ama['award_for'] = ama.apply(lambda row: str(row['award_for']).lower().strip(), axis=1)\n",
    "ama['name'] = ama.apply(lambda row: str(row['name']).lower().strip(), axis=1)\n",
    "\n",
    "msd = pd.read_csv(join_path(data_path, 'MSDSet.csv'))\n",
    "msd['artist_name'] = msd.apply(lambda row: str(row['artist_name']).lower().strip(), axis=1)\n",
    "msd['title'] = msd.apply(lambda row: str(row['title']).lower().strip(), axis=1)"
   ]
  },
  {
   "cell_type": "code",
   "execution_count": 12,
   "metadata": {},
   "outputs": [
    {
     "data": {
      "text/plain": [
       "title                                            artist_name                                \n",
       "zeze                                             kodak black featuring travis scott & offset      4.666667\n",
       "in my feelings                                   drake                                            5.722222\n",
       "sicko mode                                       travis scott                                     6.307692\n",
       "girls like you                                   maroon 5 featuring cardi b                       6.478261\n",
       "get back                                         the beatles with billy preston                   6.833333\n",
       "mrs. brown you've got a lovely daughter          herman's hermits                                 7.000000\n",
       "i want to hold your hand                         the beatles                                      7.533333\n",
       "hey jude                                         the beatles                                      7.842105\n",
       "i like it                                        cardi b, bad bunny & j balvin                    7.966667\n",
       "the first night                                  monica                                           8.000000\n",
       "hello                                            adele                                            8.153846\n",
       "i heard it through the grapevine                 marvin gaye                                      8.266667\n",
       "we might be dead by tomorrow                     soko                                             9.000000\n",
       "bridge over troubled water                       simon & garfunkel                                9.000000\n",
       "let it be                                        the beatles                                      9.071429\n",
       "i'll be there                                    jackson 5                                        9.125000\n",
       "the boy is mine                                  brandy & monica                                  9.333333\n",
       "i'm a believer                                   the monkees                                      9.466667\n",
       "something                                        the beatles                                      9.500000\n",
       "exhale (shoop shoop) (from \"waiting to exhale\")  whitney houston                                  9.571429\n",
       "fefe                                             6ix9ine featuring nicki minaj & murda beatz      9.600000\n",
       "one sweet day                                    mariah carey & boyz ii men                       9.703704\n",
       "my boo                                           usher and alicia keys                            9.769231\n",
       "imagine                                          john lennon plastic ono band                     9.777778\n",
       "lucid dreams                                     juice wrld                                       9.920000\n",
       "abc                                              jackson 5                                        9.923077\n",
       "nice for what                                    drake                                           10.000000\n",
       "i feel fine                                      the beatles                                     10.090909\n",
       "girlfriend                                       avril lavigne                                   10.208333\n",
       "god's plan                                       drake                                           10.250000\n",
       "                                                                                                   ...    \n",
       "try a little tenderness                          aretha franklin                                100.000000\n",
       "make the world go away                           ray price                                      100.000000\n",
       "do somethin'                                     britney spears                                 100.000000\n",
       "hand jive                                        the strangeloves                               100.000000\n",
       "undertow                                         timbaland featuring the fray & esthero         100.000000\n",
       "michael - pt. 1                                  steve alaimo                                   100.000000\n",
       "super high                                       rick ross featuring ne-yo                      100.000000\n",
       "killer                                           seal                                           100.000000\n",
       "dance little lady dance                          danny white                                    100.000000\n",
       "dance like we're making love                     ciara                                          100.000000\n",
       "on the line                                      demi lovato featuring jonas brothers           100.000000\n",
       "real hitta                                       plies featuring kodak black                    100.000000\n",
       "isn't it amazing                                 the crests featuring johnny mastro             100.000000\n",
       "for you, and your denial                         yellowcard                                     100.000000\n",
       "i'm to blame                                     kip moore                                      100.000000\n",
       "charade                                          andy williams                                  100.000000\n",
       "whatever u want                                  christina milian featuring joe budden          100.000000\n",
       "happier than the morning sun                     b.j. thomas                                    100.000000\n",
       "keep the ball rollin'                            al hirt                                        100.000000\n",
       "two wrongs don't make a right                    mary wells                                     100.000000\n",
       "no fear                                          dej loaf                                       100.000000\n",
       "i can do anything                                3oh!3                                          100.000000\n",
       "chain of fools (part 1)                          jimmy smith                                    100.000000\n",
       "i can hear music                                 the ronettes featuring veronica                100.000000\n",
       "the other side of this life                      peter, paul & mary                             100.000000\n",
       "awake and alive                                  skillet                                        100.000000\n",
       "please don't kiss me again                       the charmettes                                 100.000000\n",
       "twang                                            george strait                                  100.000000\n",
       "good day sunshine                                claudine longet                                100.000000\n",
       "banjo boy                                        art mooney and his orchestra                   100.000000\n",
       "Length: 27843, dtype: float64"
      ]
     },
     "execution_count": 12,
     "metadata": {},
     "output_type": "execute_result"
    }
   ],
   "source": [
    "\n",
    "titles = bhot100.title\n",
    "merge_song_bhot100 = bhot100[['title', 'artist_name', 'current_rank']].groupby(['title', 'artist_name']).sum()\n",
    "count_onchart_bhot100 = bhot100[['title', 'artist_name', 'current_rank']].groupby(['title', 'artist_name'])\\\n",
    "                        .count().rename(columns={\"current_rank\": \"onchart_count\"})\n",
    "bhot100_song_num = len(merge_song_bhot100)\n",
    "\n",
    "# count_onchart_bhot100 = count_onchart_bhot100.sort_values('onchart_count', ascending=False)\n",
    "# count_onchart_bhot100\n",
    "avr_bhot100_ranks = merge_song_bhot100.current_rank / count_onchart_bhot100.onchart_count\n",
    "avr_bhot100_ranks.sort_values()\n",
    "# avr_bhot100_ranks['Radioactive']\n"
   ]
  },
  {
   "cell_type": "code",
   "execution_count": null,
   "metadata": {},
   "outputs": [],
   "source": [
    "overall_avr_bhot_rank = np.mean(avr_bhot100_ranks)\n",
    "print (overall_avr_bhot_rank)\n",
    "blamda = 1/overall_avr_bhot_rank\n",
    "print (blamda)"
   ]
  },
  {
   "cell_type": "code",
   "execution_count": null,
   "metadata": {},
   "outputs": [],
   "source": [
    "def rank_prob(rank):\n",
    "    x = symbols('x')\n",
    "    return integrate(blamda * exp(blamda*(x-100)), (x, rank-1, rank))\n",
    "#     return blamda*np.exp(blamda*(rank-100))"
   ]
  },
  {
   "cell_type": "code",
   "execution_count": null,
   "metadata": {},
   "outputs": [],
   "source": [
    "rank_prob(1)/rank_prob(2)"
   ]
  },
  {
   "cell_type": "code",
   "execution_count": null,
   "metadata": {},
   "outputs": [],
   "source": [
    "rank_prob(1)/rank_prob(10)"
   ]
  },
  {
   "cell_type": "code",
   "execution_count": null,
   "metadata": {},
   "outputs": [],
   "source": [
    "rank_prob(1)/rank_prob(25)"
   ]
  },
  {
   "cell_type": "code",
   "execution_count": null,
   "metadata": {},
   "outputs": [],
   "source": [
    "rank_prob(1)/rank_prob(50)"
   ]
  },
  {
   "cell_type": "code",
   "execution_count": null,
   "metadata": {},
   "outputs": [],
   "source": [
    "rank_prob(1)/rank_prob(100)"
   ]
  },
  {
   "cell_type": "code",
   "execution_count": null,
   "metadata": {},
   "outputs": [],
   "source": []
  },
  {
   "cell_type": "code",
   "execution_count": null,
   "metadata": {},
   "outputs": [],
   "source": [
    "rank_prob(1)"
   ]
  },
  {
   "cell_type": "code",
   "execution_count": null,
   "metadata": {},
   "outputs": [],
   "source": [
    "rank_prob_table_bhot100 = [float(rank_prob(i)) for i in range(1, 101)]"
   ]
  },
  {
   "cell_type": "code",
   "execution_count": null,
   "metadata": {},
   "outputs": [],
   "source": [
    "rank_prob_table_bhot100"
   ]
  },
  {
   "cell_type": "code",
   "execution_count": null,
   "metadata": {},
   "outputs": [],
   "source": [
    "# f_score_table_bhot100 = -np.log(rank_prob_table_bhot100)\n",
    "# f_score_table_bhot100\n",
    "# f_norm_score_table_bhot100 = preprocessing.MinMaxScaler()\\\n",
    "#         .fit_transform(np.array(f_score_table_bhot100).reshape(-1, 1))\n",
    "# f_norm_score_table_bhot100 = f_norm_score_table_bhot100.reshape(-1).tolist()\n",
    "# f_norm_score_table_bhot100"
   ]
  },
  {
   "cell_type": "code",
   "execution_count": null,
   "metadata": {},
   "outputs": [],
   "source": []
  },
  {
   "cell_type": "code",
   "execution_count": null,
   "metadata": {},
   "outputs": [],
   "source": [
    "score_table_bhot100 = [1/i for i in rank_prob_table_bhot100]\n",
    "score_table_bhot100"
   ]
  },
  {
   "cell_type": "code",
   "execution_count": null,
   "metadata": {},
   "outputs": [],
   "source": [
    "norm_score_table_bhot100 = preprocessing.MinMaxScaler((1, 100))\\\n",
    "        .fit_transform(np.array(score_table_bhot100).reshape(-1, 1))\n",
    "norm_score_table_bhot100 = (norm_score_table_bhot100).reshape(-1).tolist()\n",
    "norm_score_table_bhot100"
   ]
  },
  {
   "cell_type": "code",
   "execution_count": null,
   "metadata": {},
   "outputs": [],
   "source": []
  },
  {
   "cell_type": "code",
   "execution_count": null,
   "metadata": {},
   "outputs": [],
   "source": [
    "grammy_num = len(grammy)\n",
    "grammy['cnt'] = grammy['year']\n",
    "artist_grammy_count = grammy[['name', 'cnt']].groupby(['name']).count()\n",
    "artist_grammy_count"
   ]
  },
  {
   "cell_type": "code",
   "execution_count": null,
   "metadata": {},
   "outputs": [],
   "source": [
    "# both grammy and billboard started from 1958\n",
    "grammy_score = bhot100_song_num/grammy_num*100\n",
    "grammy_score"
   ]
  },
  {
   "cell_type": "code",
   "execution_count": null,
   "metadata": {},
   "outputs": [],
   "source": [
    "#ama started from 1974\n",
    "ama['cnt'] = ama['year']\n",
    "ama_num = len(ama)\n",
    "ama_score = bhot100_song_num/ama_num*100*(2018-1974)/(2018-1958)\n",
    "ama_score"
   ]
  },
  {
   "cell_type": "code",
   "execution_count": null,
   "metadata": {},
   "outputs": [],
   "source": [
    "def generate_feature():\n",
    "#     songs = set()\n",
    "#     msdtitle = msd['title'].tolist()\n",
    "#     msdartist = msd['artist_name'].tolist()\n",
    "#     songsmap = merge_song_bhot100.reset_index()\\\n",
    "#         .apply(lambda row: row['title'] in msdtitle and row['artist_name'] in msdartist, axis=1)\n",
    "#     songs = merge_song_bhot100.reset_index()[['title', 'artist']][songsmap]\n",
    "    songs = pd.read_csv(join_path(data_path, 'bh100_inmsd_songs.csv'))\n",
    "    print (len(songs))\n",
    "    fd = {}\n",
    "    for i in range(0, len(songs)):\n",
    "        row = songs.iloc[i]\n",
    "        t = row['title']\n",
    "        an = row['artist_name']\n",
    "        index = row['title'] + ' by ' + row['artist_name']\n",
    "        if index not in fd:\n",
    "            fd[index] = {\n",
    "                'title': row['title'],\n",
    "                'artist_name': row['artist_name'],\n",
    "                'bb_rank': [],\n",
    "                'grammy': [],\n",
    "                'ama': [],\n",
    "                \n",
    "            }\n",
    "        bills = bhot100[(bhot100['title']==t) & (bhot100['artist_name']==an)]\n",
    "        lifespan = pd.DataFrame({'chart_date':bills['chart_date'], 'release_date': row['chart_date']})\n",
    "        lifespan = pd.to_datetime()\n",
    "        lifespan['chart_date']=pd.to_datetime(lifespan['chart_date'],format='%Y-%m-%d')\n",
    "        lifespan['release_date']=pd.to_datetime(lifespan['release_date'],format='%Y-%m-%d')\n",
    "        lifespan['dayspan']=(lifespan['last_time']-lifespan['first_time']).dt.days\n",
    "        lifespan['weekspan']=lifespan['dayspan']/7"
   ]
  },
  {
   "cell_type": "code",
   "execution_count": 30,
   "metadata": {},
   "outputs": [
    {
     "name": "stdout",
     "output_type": "stream",
     "text": [
      "27843\n"
     ]
    }
   ],
   "source": [
    "msdtitle = msd['title'].tolist()\n",
    "msdartist = msd['artist_name'].tolist()\n",
    "songsmap = merge_song_bhot100.reset_index()\\\n",
    "    .apply(lambda row: (row['title'] in msdtitle) and (row['artist_name'] in msdartist), axis=1)\n",
    "print(len(songsmap))"
   ]
  },
  {
   "cell_type": "code",
   "execution_count": 32,
   "metadata": {},
   "outputs": [
    {
     "name": "stdout",
     "output_type": "stream",
     "text": [
      "13804\n"
     ]
    }
   ],
   "source": [
    "songs = merge_song_bhot100.reset_index()[['title', 'artist_name']][songsmap]\n",
    "print (len(songs))\n",
    "songs.to_csv(join_path(data_path, 'bh100_inmsd_songs.csv'))\n",
    "# songs['release_date'] = songs.apply(lambda row: msd[(msd['title']==row['title']) & \\\n",
    "#                                                     (msd['artist_name']==row['artist_name'])]['release_']"
   ]
  },
  {
   "cell_type": "code",
   "execution_count": 27,
   "metadata": {},
   "outputs": [
    {
     "name": "stdout",
     "output_type": "stream",
     "text": [
      "gonna wanna tonight chase rice\n",
      "gonna' get along without you now tracey dey\n",
      "gonorrhea lil wayne featuring drake\n",
      "gonzo james booker\n",
      "goo goo barabajagal (love is hot) donovan/jeff beck group\n",
      "good better than ezra\n",
      "good clean fun the monkees\n",
      "good combination sonny & cher\n",
      "good day sunshine claudine longet\n",
      "good directions billy currington\n"
     ]
    }
   ],
   "source": [
    "for i in range(8000, 8010):\n",
    "    print (merge_song_bhot100.reset_index()['title'].iloc[i], merge_song_bhot100.reset_index()['artist_name'].iloc[i])"
   ]
  },
  {
   "cell_type": "code",
   "execution_count": 28,
   "metadata": {},
   "outputs": [
    {
     "data": {
      "text/html": [
       "<div>\n",
       "<style scoped>\n",
       "    .dataframe tbody tr th:only-of-type {\n",
       "        vertical-align: middle;\n",
       "    }\n",
       "\n",
       "    .dataframe tbody tr th {\n",
       "        vertical-align: top;\n",
       "    }\n",
       "\n",
       "    .dataframe thead th {\n",
       "        text-align: right;\n",
       "    }\n",
       "</style>\n",
       "<table border=\"1\" class=\"dataframe\">\n",
       "  <thead>\n",
       "    <tr style=\"text-align: right;\">\n",
       "      <th></th>\n",
       "      <th>file_id</th>\n",
       "      <th>song_id</th>\n",
       "      <th>post_year</th>\n",
       "      <th>artist_id</th>\n",
       "      <th>artist_hotness</th>\n",
       "      <th>artist_name</th>\n",
       "      <th>danceability</th>\n",
       "      <th>duration</th>\n",
       "      <th>end_of_fade_in</th>\n",
       "      <th>energy</th>\n",
       "      <th>loudness</th>\n",
       "      <th>song_hotness</th>\n",
       "      <th>start_of_fade_out</th>\n",
       "      <th>tempo</th>\n",
       "      <th>title</th>\n",
       "    </tr>\n",
       "  </thead>\n",
       "  <tbody>\n",
       "    <tr>\n",
       "      <th>0</th>\n",
       "      <td>A/E/E/TRAEEGO12903CF7D27</td>\n",
       "      <td>SOGXWRE12AC468BE24</td>\n",
       "      <td>1966</td>\n",
       "      <td>ARTXS851187FB411C7</td>\n",
       "      <td>0.338575</td>\n",
       "      <td>Chris Farlowe</td>\n",
       "      <td>0.0</td>\n",
       "      <td>177.57995</td>\n",
       "      <td>0.346</td>\n",
       "      <td>0.0</td>\n",
       "      <td>-11.027</td>\n",
       "      <td>NaN</td>\n",
       "      <td>175.078</td>\n",
       "      <td>146.913</td>\n",
       "      <td>Paint It Black</td>\n",
       "    </tr>\n",
       "    <tr>\n",
       "      <th>1</th>\n",
       "      <td>A/E/E/TRAEEIJ128F92DFEDB</td>\n",
       "      <td>SONEGRP12A58A7F9DB</td>\n",
       "      <td>1997</td>\n",
       "      <td>ARXGQ2X1187FB4B346</td>\n",
       "      <td>0.389039</td>\n",
       "      <td>Charles Brown</td>\n",
       "      <td>0.0</td>\n",
       "      <td>167.81016</td>\n",
       "      <td>0.136</td>\n",
       "      <td>0.0</td>\n",
       "      <td>-17.772</td>\n",
       "      <td>0.262309</td>\n",
       "      <td>162.946</td>\n",
       "      <td>142.058</td>\n",
       "      <td>More Than You Know</td>\n",
       "    </tr>\n",
       "    <tr>\n",
       "      <th>2</th>\n",
       "      <td>A/E/E/TRAEEMK12903CF5AD5</td>\n",
       "      <td>SOEMNOG12AC960A5E3</td>\n",
       "      <td>1995</td>\n",
       "      <td>ARY6PB61187FB45550</td>\n",
       "      <td>0.373021</td>\n",
       "      <td>Dub War</td>\n",
       "      <td>0.0</td>\n",
       "      <td>236.51220</td>\n",
       "      <td>0.984</td>\n",
       "      <td>0.0</td>\n",
       "      <td>-7.632</td>\n",
       "      <td>0.000000</td>\n",
       "      <td>231.178</td>\n",
       "      <td>105.845</td>\n",
       "      <td>Strike It (Vpro Radio Session)</td>\n",
       "    </tr>\n",
       "    <tr>\n",
       "      <th>3</th>\n",
       "      <td>A/E/E/TRAEEVW128F4244269</td>\n",
       "      <td>SOJJUPJ12A6D4FC655</td>\n",
       "      <td>0</td>\n",
       "      <td>AR0CJQS1187FB42BEB</td>\n",
       "      <td>0.273445</td>\n",
       "      <td>Big Maceo Merriweather</td>\n",
       "      <td>0.0</td>\n",
       "      <td>175.85587</td>\n",
       "      <td>0.566</td>\n",
       "      <td>0.0</td>\n",
       "      <td>-15.873</td>\n",
       "      <td>0.482867</td>\n",
       "      <td>169.755</td>\n",
       "      <td>169.170</td>\n",
       "      <td>Chicago Breakdown</td>\n",
       "    </tr>\n",
       "    <tr>\n",
       "      <th>4</th>\n",
       "      <td>A/E/E/TRAEEDH128F932BF7D</td>\n",
       "      <td>SOBGCUO12A6D4FB2B0</td>\n",
       "      <td>2006</td>\n",
       "      <td>AR5CKT41187B9B9AB0</td>\n",
       "      <td>0.436170</td>\n",
       "      <td>Presuntos Implicados</td>\n",
       "      <td>0.0</td>\n",
       "      <td>249.80853</td>\n",
       "      <td>0.000</td>\n",
       "      <td>0.0</td>\n",
       "      <td>-8.518</td>\n",
       "      <td>NaN</td>\n",
       "      <td>240.013</td>\n",
       "      <td>116.924</td>\n",
       "      <td>Mil Mariposas</td>\n",
       "    </tr>\n",
       "  </tbody>\n",
       "</table>\n",
       "</div>"
      ],
      "text/plain": [
       "                    file_id             song_id  post_year  \\\n",
       "0  A/E/E/TRAEEGO12903CF7D27  SOGXWRE12AC468BE24       1966   \n",
       "1  A/E/E/TRAEEIJ128F92DFEDB  SONEGRP12A58A7F9DB       1997   \n",
       "2  A/E/E/TRAEEMK12903CF5AD5  SOEMNOG12AC960A5E3       1995   \n",
       "3  A/E/E/TRAEEVW128F4244269  SOJJUPJ12A6D4FC655          0   \n",
       "4  A/E/E/TRAEEDH128F932BF7D  SOBGCUO12A6D4FB2B0       2006   \n",
       "\n",
       "            artist_id  artist_hotness             artist_name  danceability  \\\n",
       "0  ARTXS851187FB411C7        0.338575           Chris Farlowe           0.0   \n",
       "1  ARXGQ2X1187FB4B346        0.389039           Charles Brown           0.0   \n",
       "2  ARY6PB61187FB45550        0.373021                 Dub War           0.0   \n",
       "3  AR0CJQS1187FB42BEB        0.273445  Big Maceo Merriweather           0.0   \n",
       "4  AR5CKT41187B9B9AB0        0.436170    Presuntos Implicados           0.0   \n",
       "\n",
       "    duration  end_of_fade_in  energy  loudness  song_hotness  \\\n",
       "0  177.57995           0.346     0.0   -11.027           NaN   \n",
       "1  167.81016           0.136     0.0   -17.772      0.262309   \n",
       "2  236.51220           0.984     0.0    -7.632      0.000000   \n",
       "3  175.85587           0.566     0.0   -15.873      0.482867   \n",
       "4  249.80853           0.000     0.0    -8.518           NaN   \n",
       "\n",
       "   start_of_fade_out    tempo                           title  \n",
       "0            175.078  146.913                  Paint It Black  \n",
       "1            162.946  142.058              More Than You Know  \n",
       "2            231.178  105.845  Strike It (Vpro Radio Session)  \n",
       "3            169.755  169.170               Chicago Breakdown  \n",
       "4            240.013  116.924                   Mil Mariposas  "
      ]
     },
     "execution_count": 28,
     "metadata": {},
     "output_type": "execute_result"
    }
   ],
   "source": []
  },
  {
   "cell_type": "code",
   "execution_count": null,
   "metadata": {},
   "outputs": [],
   "source": []
  }
 ],
 "metadata": {
  "kernelspec": {
   "display_name": "Python 3",
   "language": "python",
   "name": "python3"
  },
  "language_info": {
   "codemirror_mode": {
    "name": "ipython",
    "version": 3
   },
   "file_extension": ".py",
   "mimetype": "text/x-python",
   "name": "python",
   "nbconvert_exporter": "python",
   "pygments_lexer": "ipython3",
   "version": "3.6.6"
  }
 },
 "nbformat": 4,
 "nbformat_minor": 2
}
